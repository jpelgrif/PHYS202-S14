{
 "metadata": {
  "name": "",
  "signature": "sha256:8225c1b6db42cd448f29c64b710765e4efc4d3f8f5d6ca50ca1fca71d51da27b"
 },
 "nbformat": 3,
 "nbformat_minor": 0,
 "worksheets": []
}