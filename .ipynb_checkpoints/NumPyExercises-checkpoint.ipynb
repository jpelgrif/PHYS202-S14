{
 "metadata": {
  "name": "",
  "signature": "sha256:8764da7c46f3f620f9c9961e6b3f06ced4254fdb0ceb74bba6776a0c0af58fa8"
 },
 "nbformat": 3,
 "nbformat_minor": 0,
 "worksheets": [
  {
   "cells": [
    {
     "cell_type": "heading",
     "level": 1,
     "metadata": {},
     "source": [
      "NumPy Exercises"
     ]
    },
    {
     "cell_type": "code",
     "collapsed": false,
     "input": [
      "%pylab inline"
     ],
     "language": "python",
     "metadata": {},
     "outputs": [
      {
       "output_type": "stream",
       "stream": "stdout",
       "text": [
        "Populating the interactive namespace from numpy and matplotlib\n"
       ]
      }
     ],
     "prompt_number": 1
    },
    {
     "cell_type": "markdown",
     "metadata": {},
     "source": [
      "1) Create the following arrays with correct data types:\n",
      "\n",
      "[[1, 1, 1, 1],\n",
      " [1, 1, 1, 1],\n",
      " [1, 1, 1, 2],\n",
      " [1, 6, 1, 1]]\n",
      " ```\n",
      " \n",
      "[[0., 0., 0., 0., 0.], [2., 0., 0., 0., 0.], [0., 3., 0., 0., 0.], [0., 0., 4., 0., 0.], [0., 0., 0., 5., 0.], [0., 0., 0., 0., 6.]] ```\n",
      "\n",
      "You should be able to accomplish this in 3 lines of code for each one. The documentation for the diag method may be helpful."
     ]
    },
    {
     "cell_type": "code",
     "collapsed": false,
     "input": [
      "arr1 = np.ones((4,4), dtype=int)\n",
      "arr1[2,3] = 2\n",
      "arr1[3,1] = 6\n",
      "print arr1\n",
      "\n",
      "arr2 = np.zeros((6,5), dtype=float)\n",
      "arr2[1:] = np.diag(np.arange(2,7))\n",
      "print arr2"
     ],
     "language": "python",
     "metadata": {},
     "outputs": [
      {
       "output_type": "stream",
       "stream": "stdout",
       "text": [
        "[[1 1 1 1]\n",
        " [1 1 1 1]\n",
        " [1 1 1 2]\n",
        " [1 6 1 1]]\n",
        "[[ 0.  0.  0.  0.  0.]\n",
        " [ 2.  0.  0.  0.  0.]\n",
        " [ 0.  3.  0.  0.  0.]\n",
        " [ 0.  0.  4.  0.  0.]\n",
        " [ 0.  0.  0.  5.  0.]\n",
        " [ 0.  0.  0.  0.  6.]]\n"
       ]
      }
     ],
     "prompt_number": 14
    },
    {
     "cell_type": "markdown",
     "metadata": {},
     "source": [
      "2) Read the documentation for np.tile and use this function to construct the following array:\n",
      "[[4, 3, 4, 3, 4, 3],  [2, 1, 2, 1, 2, 1],  [4, 3, 4, 3, 4, 3],  [2, 1, 2, 1, 2, 1]]"
     ]
    },
    {
     "cell_type": "code",
     "collapsed": false,
     "input": [
      "arr = np.array([[4,3], [2,1]])\n",
      "arr = np.tile(arr, (2,3))\n",
      "print arr"
     ],
     "language": "python",
     "metadata": {},
     "outputs": [
      {
       "output_type": "stream",
       "stream": "stdout",
       "text": [
        "[[4 3 4 3 4 3]\n",
        " [2 1 2 1 2 1]\n",
        " [4 3 4 3 4 3]\n",
        " [2 1 2 1 2 1]]\n"
       ]
      }
     ],
     "prompt_number": 18
    },
    {
     "cell_type": "markdown",
     "metadata": {},
     "source": [
      "3) Let\u2019s create a prime number sieve. We will use the sieve to see what numbers between 0 and 100 are prime.\n",
      "\n",
      "(a) First, construct an array of booleans called is prime with shape (100,), filled with True in all the elements.\n",
      "\n",
      "    is_prime = np.ones((100,), dtype=bool)"
     ]
    },
    {
     "cell_type": "code",
     "collapsed": false,
     "input": [
      "is_prime = np.ones((100,), dtype=bool)"
     ],
     "language": "python",
     "metadata": {},
     "outputs": [],
     "prompt_number": 20
    },
    {
     "cell_type": "markdown",
     "metadata": {},
     "source": [
      "(b) The index of each boolean element represents the number. \u201cCross out\u201d 0 and 1, which are not primes. You can either set them to False or 0 (which python recognizes as equivalent to False for boolean types)."
     ]
    },
    {
     "cell_type": "code",
     "collapsed": false,
     "input": [
      "is_prime[0] = 0\n",
      "is_prime[1] = 0"
     ],
     "language": "python",
     "metadata": {},
     "outputs": [],
     "prompt_number": 21
    },
    {
     "cell_type": "markdown",
     "metadata": {},
     "source": [
      "(c) For each subsequent integer j starting from 2, cross out its higher multiples:\n",
      "\n",
      "    N_max = int(np.sqrt(len(is_prime)))\n",
      "    for j in range(2, N_max):\n",
      "        is_prime[2*j::j] = False\n",
      "\n",
      "Make sure you understand what this code is doing. What does that slicing of the array mean?"
     ]
    },
    {
     "cell_type": "code",
     "collapsed": false,
     "input": [],
     "language": "python",
     "metadata": {},
     "outputs": []
    }
   ],
   "metadata": {}
  }
 ]
}