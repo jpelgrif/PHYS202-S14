{
 "metadata": {
  "name": "",
  "signature": "sha256:0bc84feee8d50d5f2cf9c5245dca863bbb0f7751c7f7f457421d4aefd30ae8d2"
 },
 "nbformat": 3,
 "nbformat_minor": 0,
 "worksheets": [
  {
   "cells": [
    {
     "cell_type": "heading",
     "level": 1,
     "metadata": {},
     "source": [
      "Power Digit Sum"
     ]
    },
    {
     "cell_type": "heading",
     "level": 3,
     "metadata": {},
     "source": [
      "Problem 16"
     ]
    },
    {
     "cell_type": "markdown",
     "metadata": {},
     "source": [
      "2<sup>15</sup> = 32768 and the sum of its digits is 3 + 2 + 7 + 6 + 8 = 26.\n",
      "\n",
      "What is the sum of the digits of the number 2<sup>1000</sup>?"
     ]
    },
    {
     "cell_type": "code",
     "collapsed": false,
     "input": [
      "num = 2 ** 1000\n",
      "total = 0\n",
      "while num:\n",
      "    total += num % 10\n",
      "    num /= 10\n",
      "print total"
     ],
     "language": "python",
     "metadata": {},
     "outputs": [
      {
       "output_type": "stream",
       "stream": "stdout",
       "text": [
        "1366\n"
       ]
      }
     ],
     "prompt_number": 2
    },
    {
     "cell_type": "code",
     "collapsed": false,
     "input": [],
     "language": "python",
     "metadata": {},
     "outputs": []
    }
   ],
   "metadata": {}
  }
 ]
}