{
 "metadata": {
  "name": "",
  "signature": "sha256:00408dd7d55f8aa0868de4fa9fbac76d0d743a418e1d2319676d627cf06621ea"
 },
 "nbformat": 3,
 "nbformat_minor": 0,
 "worksheets": [
  {
   "cells": [
    {
     "cell_type": "heading",
     "level": 1,
     "metadata": {},
     "source": [
      "Counting Stars Exercises"
     ]
    },
    {
     "cell_type": "code",
     "collapsed": false,
     "input": [
      "%pylab inline\n",
      "import numpy as np\n",
      "import matplotlib.pyplot as plt\n",
      "from PIL import Image\n",
      "import requests\n",
      "from StringIO import StringIO"
     ],
     "language": "python",
     "metadata": {},
     "outputs": [
      {
       "output_type": "stream",
       "stream": "stdout",
       "text": [
        "Populating the interactive namespace from numpy and matplotlib\n"
       ]
      }
     ],
     "prompt_number": 1
    },
    {
     "cell_type": "code",
     "collapsed": false,
     "input": [
      "BLACK = (0,0,0)\n",
      "WHITE = (255,255,255)\n",
      "RED = (255,0,0)\n",
      "\n",
      "def monochrome(picture, threshold):\n",
      "    \"\"\"loops over the pixels in the loaded image, \n",
      "    replacing the RGB values of each with either \n",
      "    black or white depending on whether its total \n",
      "    luminance is above or below some threshold \n",
      "    passed in by the user\"\"\"\n",
      "    xsize, ysize = picture.size\n",
      "    temp = picture.load()\n",
      "    for x in range(xsize):\n",
      "        for y in range(ysize):\n",
      "            r,g,b = temp[x,y]\n",
      "            if r+g+b >= threshold: \n",
      "                temp[x,y] = BLACK\n",
      "            else:\n",
      "                temp[x,y] = WHITE\n",
      "\n",
      "def fill(picture, xsize, ysize, xstart, ystart):\n",
      "    \"\"\"keep a list of pixels that need to be looked at, \n",
      "    but haven't yet been filled in - a list of the (x,y) \n",
      "    coordinates of pixels that are neighbors of ones we have \n",
      "    already examined.  Keep looping until there's nothing \n",
      "    left in this list\"\"\"\n",
      "    queue = [(xstart,ystart)]\n",
      "    while queue:\n",
      "        x,y,queue = queue[0][0], queue[0][1], queue[1:]\n",
      "        if picture[x,y] == BLACK:\n",
      "            picture[x,y] = RED\n",
      "            if x > 0:\n",
      "                queue.append((x-1,y))\n",
      "            if x < (xsize-1):\n",
      "                queue.append((x+1,y))\n",
      "            if y > 0:\n",
      "                queue.append((x, y-1))\n",
      "            if y < (ysize-1):\n",
      "                queue.append((x, y+1))\n",
      "\n",
      "def fillrec(picture, xsize, ysize, x, y):\n",
      "    \"\"\"each call to 'fillrec' takes care of one pixel, \n",
      "    then calls 'fillrec' again to take care of the neighbors\"\"\"\n",
      "    if picture[x,y] != BLACK:\n",
      "        return\n",
      "    picture[x,y] = RED\n",
      "    if x > 0:\n",
      "        fillrec(picture, xsize, ysize, x-1, y)\n",
      "    if x < (xsize-1):\n",
      "        fillrec(picture, xsize, ysize, x+1, y)\n",
      "    if y > 0:\n",
      "        fillrec(picture, xsize, ysize, x, y-1)\n",
      "    if y < (ysize-1):\n",
      "        fillrec(picture, xsize, ysize, x, y+1)"
     ],
     "language": "python",
     "metadata": {},
     "outputs": [],
     "prompt_number": 127
    },
    {
     "cell_type": "markdown",
     "metadata": {},
     "source": [
      "1. Modify the fill function so that it never looks at the same pixel twice. There are at least two ways to do this. Name your new function fastfill. The function prototype might look something like this:\n",
      "\n",
      "        def fastfill(picture, xsize, ysize, xstart, ystart):\n",
      "        \"\"\"Faster fill algorithm that doesn't look at any pixel more than once.\"\"\"\n",
      "\n",
      "Be sure to include comments and add detail to the docstring to describe what it is doing."
     ]
    },
    {
     "cell_type": "code",
     "collapsed": false,
     "input": [
      "def fastfill(picture, xsize, ysize, xstart, ystart):\n",
      "    \"\"\"Faster fill algorithm that doesn't look at any pixel more than once.\"\"\"\n",
      "    queue = [(xstart,ystart)]\n",
      "    done = []\n",
      "    while queue:\n",
      "        x,y,queue = queue[0][0], queue[0][1], queue[1:]\n",
      "        if picture[x,y] == BLACK:\n",
      "            picture[x,y] = RED\n",
      "            if x > 0 and (x-1,y) not in done:\n",
      "                queue.append((x-1,y))\n",
      "            if x < (xsize-1) and (x+1,y) not in done:\n",
      "                queue.append((x+1,y))\n",
      "            if y > 0 and (x,y-1) not in done:\n",
      "                queue.append((x, y-1))\n",
      "            if y < (ysize-1) and (x,y+1) not in done:\n",
      "                queue.append((x, y+1))\n",
      "        done.append((x,y)) ## adds item to done list after checked"
     ],
     "language": "python",
     "metadata": {},
     "outputs": [],
     "prompt_number": 80
    },
    {
     "cell_type": "markdown",
     "metadata": {},
     "source": [
      "2) Modify your count function to take another argument - which fill function to use - and compare the time it takes to count the stars using the original fill, your improved fastfill, and the recursive recfill."
     ]
    },
    {
     "cell_type": "code",
     "collapsed": false,
     "input": [
      "def count(picture, filltype):\n",
      "    \"\"\"scan the image top to bottom and left to right using a nested loop.\n",
      "    when black pixel is found, increment the count, then call the fill\n",
      "    function to fill in all the pixels connected to that one.\"\"\"\n",
      "    \"\"\"filltype can be fill, fastfill or fillrec\"\"\"\n",
      "    xsize, ysize = picture.size\n",
      "    temp = picture.load()\n",
      "    result = 0\n",
      "    for x in range(xsize):\n",
      "        for y in range(ysize):\n",
      "            if temp[x,y] == BLACK:\n",
      "                result += 1\n",
      "                filltype(temp,xsize,ysize,x,y)\n",
      "    for x in range(xsize):\n",
      "        for y in range(ysize):\n",
      "            if temp[x,y] == RED: \n",
      "                temp[x,y] = BLACK\n",
      "    return result"
     ],
     "language": "python",
     "metadata": {},
     "outputs": [],
     "prompt_number": 14
    },
    {
     "cell_type": "code",
     "collapsed": false,
     "input": [
      "response = requests.get(\"http://imgsrc.hubblesite.org/hu/db/images/hs-2004-20-a-large_web.jpg\")\n",
      "bwpic = Image.open(StringIO(response.content))\n",
      "monochrome(bwpic,200+200+200)\n",
      "\n",
      "%timeit count(bwpic, fill)              \n",
      "%timeit count(bwpic, fastfill)              \n",
      "%timeit count(bwpic, fillrec)"
     ],
     "language": "python",
     "metadata": {},
     "outputs": [
      {
       "output_type": "stream",
       "stream": "stdout",
       "text": [
        "1 loops, best of 3: 202 ms per loop\n",
        "1 loops, best of 3: 221 ms per loop"
       ]
      },
      {
       "output_type": "stream",
       "stream": "stdout",
       "text": [
        "\n",
        "1 loops, best of 3: 208 ms per loop"
       ]
      },
      {
       "output_type": "stream",
       "stream": "stdout",
       "text": [
        "\n"
       ]
      }
     ],
     "prompt_number": 96
    },
    {
     "cell_type": "markdown",
     "metadata": {},
     "source": [
      "3) Use the fastest algorithm from question 2 to count the stars above a threshold in all of the images listed at the top of the page. How does the count for each image change if you lower the threshold from 600 to 500? Comment on any changes to the count. Why do they happen?\n"
     ]
    },
    {
     "cell_type": "code",
     "collapsed": false,
     "input": [
      "images = [\"http://imgsrc.hubblesite.org/hu/db/images/hs-2004-20-a-large_web.jpg\",\n",
      "    \"http://imgsrc.hubblesite.org/hu/db/images/hs-1993-13-a-large_web.jpg\",\n",
      "    \"http://imgsrc.hubblesite.org/hu/db/images/hs-1995-32-c-full_jpg.jpg\",\n",
      "    \"http://imgsrc.hubblesite.org/hu/db/images/hs-2002-10-c-large_web.jpg\",\n",
      "    \"http://imgsrc.hubblesite.org/hu/db/images/hs-1999-30-b-full_jpg.jpg\"]\n",
      "\n",
      "print \"Threshold = 600:\"\n",
      "for image in images:\n",
      "    response = requests.get(image)\n",
      "    pic = Image.open(StringIO(response.content))\n",
      "    monochrome(pic,600)\n",
      "\n",
      "    print image[42:], \":\", count(pic, fill)\n",
      "\n",
      "print \"\\nThreshold = 500:\"\n",
      "for image in images:\n",
      "    response = requests.get(image)\n",
      "    pic = Image.open(StringIO(response.content))\n",
      "    monochrome(pic,500)\n",
      "\n",
      "    print image[42:], \":\", count(pic, fill)\n",
      "    \n",
      "\"\"\" The counts are all higher when the threshold is set lower\n",
      "because less bright stars are converted to black when the picture\n",
      "is converted to black and white. More stars get converted to black,\n",
      "so more stars get counted\"\"\""
     ],
     "language": "python",
     "metadata": {},
     "outputs": [
      {
       "output_type": "stream",
       "stream": "stdout",
       "text": [
        "Threshold = 600:\n",
        "hs-2004-20-a-large_web.jpg"
       ]
      },
      {
       "output_type": "stream",
       "stream": "stdout",
       "text": [
        " : "
       ]
      },
      {
       "output_type": "stream",
       "stream": "stdout",
       "text": [
        "121\n",
        "hs-1993-13-a-large_web.jpg"
       ]
      },
      {
       "output_type": "stream",
       "stream": "stdout",
       "text": [
        " : "
       ]
      },
      {
       "output_type": "stream",
       "stream": "stdout",
       "text": [
        "72\n",
        "hs-1995-32-c-full_jpg.jpg"
       ]
      },
      {
       "output_type": "stream",
       "stream": "stdout",
       "text": [
        " : "
       ]
      },
      {
       "output_type": "stream",
       "stream": "stdout",
       "text": [
        "82\n",
        "hs-2002-10-c-large_web.jpg"
       ]
      },
      {
       "output_type": "stream",
       "stream": "stdout",
       "text": [
        " : "
       ]
      },
      {
       "output_type": "stream",
       "stream": "stdout",
       "text": [
        "246\n",
        "hs-1999-30-b-full_jpg.jpg"
       ]
      },
      {
       "output_type": "stream",
       "stream": "stdout",
       "text": [
        " : "
       ]
      },
      {
       "output_type": "stream",
       "stream": "stdout",
       "text": [
        "320\n",
        "\n",
        "Threshold = 500:\n",
        "hs-2004-20-a-large_web.jpg"
       ]
      },
      {
       "output_type": "stream",
       "stream": "stdout",
       "text": [
        " : "
       ]
      },
      {
       "output_type": "stream",
       "stream": "stdout",
       "text": [
        "210\n",
        "hs-1993-13-a-large_web.jpg"
       ]
      },
      {
       "output_type": "stream",
       "stream": "stdout",
       "text": [
        " : "
       ]
      },
      {
       "output_type": "stream",
       "stream": "stdout",
       "text": [
        "77\n",
        "hs-1995-32-c-full_jpg.jpg"
       ]
      },
      {
       "output_type": "stream",
       "stream": "stdout",
       "text": [
        " : "
       ]
      },
      {
       "output_type": "stream",
       "stream": "stdout",
       "text": [
        "117\n",
        "hs-2002-10-c-large_web.jpg"
       ]
      },
      {
       "output_type": "stream",
       "stream": "stdout",
       "text": [
        " : "
       ]
      },
      {
       "output_type": "stream",
       "stream": "stdout",
       "text": [
        "285\n",
        "hs-1999-30-b-full_jpg.jpg"
       ]
      },
      {
       "output_type": "stream",
       "stream": "stdout",
       "text": [
        " : "
       ]
      },
      {
       "output_type": "stream",
       "stream": "stdout",
       "text": [
        "355\n"
       ]
      },
      {
       "metadata": {},
       "output_type": "pyout",
       "prompt_number": 130,
       "text": [
        "' The counts are all higher when the threshold is set lower\\nbecause less bright stars are converted to black when the picture\\nis converted to black and white. More stars get converted to black,\\nso more stars get counted'"
       ]
      }
     ],
     "prompt_number": 130
    },
    {
     "cell_type": "markdown",
     "metadata": {},
     "source": [
      "4) Write a variation on your count function to keep track of the pixels in a given blob and use the brightest pixel in the blob as the \"location\" of the star. Use the data I/O skills we learned to write out a text (not binary) file containing\n",
      "\n",
      "<ul>\n",
      "<li>a header which includes</li>\n",
      "<li>the link to the image</li>\n",
      "<li>the threshold value used in the conversion to monochrome</li>\n",
      "<li>the algorithm used to count its stars</li>\n",
      "<li>how fast it processed the image</li>\n",
      "<li>how many stars were found</li>\n",
      "<li>a description of the data in the subsequent columns</li>\n",
      "<li>a list of the star data organized in three columns and formatted for easy reading as follows:</li>\n",
      "<li>location (x,y in pixel units)</li>\n",
      "<li>maximum brightness value for the star</li>\n",
      "</ul>\n",
      "\n",
      "Apply your function to the six images at the top of the page.\n"
     ]
    },
    {
     "cell_type": "code",
     "collapsed": false,
     "input": [
      "from time import time\n",
      "def filled(picture, xsize, ysize, xstart, ystart):\n",
      "    \"\"\"keep a list of pixels that need to be looked at, \n",
      "    but haven't yet been filled in - a list of the (x,y) \n",
      "    coordinates of pixels that are neighbors of ones we have \n",
      "    already examined.  Keep looping until there's nothing \n",
      "    left in this list\"\"\"\n",
      "    \"\"\"returns list of pixel locations filled\"\"\"\n",
      "    queue = [(xstart,ystart)]\n",
      "    filled = []\n",
      "    while queue:\n",
      "        x,y,queue = queue[0][0], queue[0][1], queue[1:]\n",
      "        if picture[x,y] == BLACK:\n",
      "            picture[x,y] = RED\n",
      "            if x > 0:\n",
      "                queue.append((x-1,y))\n",
      "            if x < (xsize-1):\n",
      "                queue.append((x+1,y))\n",
      "            if y > 0:\n",
      "                queue.append((x, y-1))\n",
      "            if y < (ysize-1):\n",
      "                queue.append((x, y+1))\n",
      "            filled.append((x,y))\n",
      "    return filled\n",
      "            \n",
      "\n",
      "def countwrite(pictureurl, threshold, filename):\n",
      "    \"\"\"scan the image top to bottom and left to right using a nested loop.\n",
      "    when black pixel is found, increment the count, then call the fill\n",
      "    function to fill in all the pixels connected to that one.\"\"\"\n",
      "    \"\"\"keeps track of location of stars and writes a file which contains\n",
      "    locations of all the stars and maximum brightness values for each star.\n",
      "    filename is name of file to be written, threshold is threshold value\n",
      "    used in conversion to monochrome\"\"\"\n",
      "    response = requests.get(pictureurl)\n",
      "    pic = Image.open(StringIO(response.content))\n",
      "    \n",
      "    picbw = Image.open(StringIO(response.content))\n",
      "    monochrome(picbw,threshold)\n",
      "    \n",
      "    elapsed = time()\n",
      "    \n",
      "    xsize, ysize = picbw.size\n",
      "    temp = picbw.load()\n",
      "    result = 0\n",
      "    starclusters = []\n",
      "    for x in range(xsize):\n",
      "        for y in range(ysize):\n",
      "            if temp[x,y] == BLACK:\n",
      "                result += 1\n",
      "                locfilled = filled(temp,xsize,ysize,x,y)\n",
      "                starclusters.append(locfilled)\n",
      "    \n",
      "    temp = pic.load()\n",
      "    stars = []\n",
      "    for star in starclusters:\n",
      "        maxbright = 0\n",
      "        for pixel in star:\n",
      "            x,y = pixel\n",
      "            r,g,b = temp[x,y]\n",
      "            if r+g+b > maxbright:\n",
      "                maxbright = r+g+b\n",
      "                maxx = x\n",
      "                maxy = y\n",
      "        stars.append((maxx, maxy, maxbright))\n",
      "       \n",
      "    elapsed = time() - elapsed\n",
      "\n",
      "    docheader = \"\"\"Image link: %s\n",
      "Threshold value used in conversion to monochrome: %d\n",
      "Algorithm used to count stars: 'fill'\n",
      "Proccessing time: %f\n",
      "Total Amount of Stars Found: %d\n",
      "\n",
      "The first two columns contain the star locations (x,y)\n",
      "and the third column contains the maximum brightness values\n",
      "of each of the stars found in the image:\"\"\" % (pictureurl, threshold, elapsed, result)\n",
      "    \n",
      "    savetxt(filename, stars, fmt='%i',header=docheader)"
     ],
     "language": "python",
     "metadata": {},
     "outputs": [],
     "prompt_number": 133
    },
    {
     "cell_type": "code",
     "collapsed": false,
     "input": [
      "images = [\"http://imgsrc.hubblesite.org/hu/db/images/hs-2004-20-a-large_web.jpg\",\n",
      "    \"http://imgsrc.hubblesite.org/hu/db/images/hs-1993-13-a-large_web.jpg\",\n",
      "    \"http://imgsrc.hubblesite.org/hu/db/images/hs-1995-32-c-full_jpg.jpg\",\n",
      "    \"http://imgsrc.hubblesite.org/hu/db/images/hs-2002-10-c-large_web.jpg\",\n",
      "    \"http://imgsrc.hubblesite.org/hu/db/images/hs-1999-30-b-full_jpg.jpg\"]\n",
      "\n",
      "for image in images:\n",
      "    filename = \"%s_stars.txt\" % image[42:]\n",
      "    countwrite(image, 600, filename)"
     ],
     "language": "python",
     "metadata": {},
     "outputs": [],
     "prompt_number": 134
    },
    {
     "cell_type": "code",
     "collapsed": false,
     "input": [],
     "language": "python",
     "metadata": {},
     "outputs": []
    }
   ],
   "metadata": {}
  }
 ]
}