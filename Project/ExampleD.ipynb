{
 "metadata": {
  "name": "",
  "signature": "sha256:7ad68756faa13e368b39b5158861dd602511de05165f86f52cdb77b83f268cf7"
 },
 "nbformat": 3,
 "nbformat_minor": 0,
 "worksheets": [
  {
   "cells": [
    {
     "cell_type": "heading",
     "level": 1,
     "metadata": {},
     "source": [
      "Example D"
     ]
    },
    {
     "cell_type": "code",
     "collapsed": false,
     "input": [
      "%pylab inline\n",
      "import numpy as np\n",
      "import matplotlib.pyplot as plt\n",
      "from scipy.integrate import ode"
     ],
     "language": "python",
     "metadata": {},
     "outputs": [
      {
       "output_type": "stream",
       "stream": "stdout",
       "text": [
        "Populating the interactive namespace from numpy and matplotlib\n"
       ]
      }
     ],
     "prompt_number": 1
    },
    {
     "cell_type": "code",
     "collapsed": false,
     "input": [
      "## Initialize positions and velocities\n",
      "G = 4.494e-8 ## kpc^3 * (solar masses)^-1 * (10^8 years)^-2\n",
      "M = 10**11 ##solar masses\n",
      "S = 4.*M ##solar masses\n",
      "Rmin = 25 ##kpc\n",
      "nlist = [12,18,24,30,36]\n",
      "rfrac = [.2,.3,.4,.5,.6]\n",
      "r0 = np.zeros(120)\n",
      "th0 = np.zeros(120)\n",
      "\n",
      "i = 0\n",
      "for ni,n in enumerate(nlist):\n",
      "    for x in range(n):\n",
      "        r0[i] = rfrac[ni] * Rmin\n",
      "        th0[i] = np.linspace(0,2*pi,n)[x]\n",
      "        i += 1\n",
      "       \n",
      "x0 = r0*np.cos(th0)\n",
      "y0 = r0*np.sin(th0)\n",
      "\n",
      "v = np.sqrt(G*M/r0) ## kpc/(10^8 years) \n",
      "vtheta = th0 + np.pi/2\n",
      "vx0 = v*np.cos(vtheta)\n",
      "vy0 = v*np.sin(vtheta)\n",
      "\n",
      "Rx0 = -50\n",
      "Ry0 = 86.6025403784\n",
      "vRx0 = 18.36436\n",
      "vRy0 = -10.6052328963"
     ],
     "language": "python",
     "metadata": {},
     "outputs": [],
     "prompt_number": 2
    },
    {
     "cell_type": "code",
     "collapsed": false,
     "input": [
      "def deriv_xyR(t,current,):\n",
      "    gamma = 4.494e-8 ## kpc^3 * (solar masses)^-1 * (10^8 years)^-2\n",
      "\n",
      "    x = current[0]\n",
      "    y = current[1]\n",
      "    r = sqrt(x**2+y**2)\n",
      "    vx = current[2]\n",
      "    vy = current[3]\n",
      "    Rx = current[4]\n",
      "    Ry = current[5]\n",
      "    R  = sqrt(Rx**2+Ry**2)\n",
      "    vRx = current[6]\n",
      "    vRy = current[7]\n",
      "    \n",
      "    px = abs(Rx-x)\n",
      "    py = Ry-y\n",
      "    p = R-r\n",
      "    \n",
      "    dx = vx\n",
      "    dvx = -gamma * ( (M/r**3)*x - (S/p**3)*px + (S/R**3)*Rx)\n",
      "    dy = vy\n",
      "    dvy = -gamma * ( (M/r**3)*y - (S/p**3)*py + (S/R**3)*Ry)\n",
      "\n",
      "    dRx = vRx\n",
      "    dvRx = -gamma * ((M+S) / R**3)*Rx\n",
      "    dRy = vRy\n",
      "    dvRy = -gamma * ((M+S) / R**3)*Ry\n",
      "    \n",
      "    return np.array([dx,dy,dvx,dvy,dRx,dRy,dvRx,dvRy])"
     ],
     "language": "python",
     "metadata": {},
     "outputs": [],
     "prompt_number": 3
    },
    {
     "cell_type": "code",
     "collapsed": false,
     "input": [
      "## Code adapted from http://scipy-central.org/item/13/0/integrating-an-initial-value-problem-multiple-odes\n",
      "# Start by specifying the integrator:\n",
      "# use ``vode`` with \"backward differentiation formula\"\n",
      "r = ode(deriv_xyR).set_integrator('vode', method='bdf',max_step=5000)\n",
      "\n",
      "# Set the time range\n",
      "t_start = 0.0\n",
      "t_final = 15.0\n",
      "delta_t = 1./24.\n",
      "# Number of time steps: 1 extra for initial condition\n",
      "num_steps = np.floor((t_final - t_start)/delta_t) + 1\n",
      "\n",
      "# Additional Python step: create vectors to store trajectories\n",
      "t = np.zeros((num_steps))\n",
      "x = np.zeros((120,num_steps))\n",
      "y = np.zeros((120,num_steps))\n",
      "vx = np.zeros((120,num_steps))\n",
      "vy = np.zeros((120,num_steps))\n",
      "Rx = np.zeros((num_steps))\n",
      "Ry = np.zeros((num_steps))\n",
      "vRx = np.zeros((num_steps))\n",
      "vRy = np.zeros((num_steps))\n",
      "\n",
      "t[0] = t_start\n",
      "x[:,0],y[:,0],vx[:,0],vy[:,0] = x0,y0,vx0,vy0\n",
      "Rx[0],Ry[0],vRx[0],vRy[0] = Rx0,Ry0,vRx0,vRy0\n",
      "\n",
      "for i,(x0i,y0i,vx0i,vy0i) in enumerate(zip(x0,y0,vx0,vy0)):\n",
      "    new_init = np.array([x0i,y0i,vx0i,vy0i,Rx0,Ry0,vRx0,vRy0])\n",
      "    r.set_initial_value(new_init, t_start)\n",
      "\n",
      "    # Integrate the ODE(s) across each delta_t timestep\n",
      "    k = 1\n",
      "    while r.successful() and k < num_steps:\n",
      "        r.integrate(r.t + delta_t)\n",
      "\n",
      "        # Store the results to plot later\n",
      "        t[k] = r.t\n",
      "        x[i,k] = r.y[0]\n",
      "        y[i,k] = r.y[1]\n",
      "        vx[i,k] = r.y[2]\n",
      "        vy[i,k] = r.y[3]\n",
      "        Rx[k] = r.y[4]\n",
      "        Ry[k] = r.y[5]\n",
      "        vRx[k] = r.y[6]\n",
      "        vRy[k] = r.y[7]\n",
      "        k += 1"
     ],
     "language": "python",
     "metadata": {},
     "outputs": [
      {
       "output_type": "stream",
       "stream": "stderr",
       "text": [
        "/Users/jpelgrift/anaconda/lib/python2.7/site-packages/scipy/integrate/_ode.py:741: UserWarning: vode: Excess work done on this call. (Perhaps wrong MF.)\n",
        "  'Unexpected istate=%s' % istate))\n"
       ]
      }
     ],
     "prompt_number": 4
    },
    {
     "cell_type": "code",
     "collapsed": false,
     "input": [
      "for i,tt in enumerate(t):\n",
      "    plt.figure(figsize=(8,8))\n",
      "    title = \"t = %.2f\" % tt\n",
      "    plt.title(title,fontsize=16)\n",
      "    plt.scatter(x[:,i],y[:,i])\n",
      "    ##for z in range(0,120,15):\n",
      "        ##plt.plot(x[z,i],y[z,i],'ro')\n",
      "    plt.plot(Rx[i],Ry[i],'ro',ms=20)\n",
      "    plt.xlim(-60,60)\n",
      "    plt.ylim(-60,60)\n",
      "    \n",
      "    ax = plt.gca()\n",
      "    ax.spines['right'].set_color('none')\n",
      "    ax.spines['top'].set_color('none')\n",
      "    ax.spines['bottom'].set_color('none')\n",
      "    ax.spines['left'].set_color('none')\n",
      "    \n",
      "    fname = \"Animations/ExampleD/img%003i.png\" % i\n",
      "    plt.savefig(fname)\n",
      "    plt.close()\n",
      "    \n",
      "##!ffmpeg -r 24 -i Animations/ExampleD/img%003d.png -c:v libx264 -r 24 -pix_fmt yuv420p Animations/ExampleD.mp4"
     ],
     "language": "python",
     "metadata": {},
     "outputs": [],
     "prompt_number": 5
    },
    {
     "cell_type": "code",
     "collapsed": false,
     "input": [],
     "language": "python",
     "metadata": {},
     "outputs": []
    }
   ],
   "metadata": {}
  }
 ]
}