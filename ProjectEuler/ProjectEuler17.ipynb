{
 "metadata": {
  "name": "",
  "signature": "sha256:e73dad34b508f7dc96f088426e08483170aca6acedc7718c81b28123c5519fd9"
 },
 "nbformat": 3,
 "nbformat_minor": 0,
 "worksheets": [
  {
   "cells": [
    {
     "cell_type": "heading",
     "level": 1,
     "metadata": {},
     "source": [
      "Number letter counts"
     ]
    },
    {
     "cell_type": "heading",
     "level": 3,
     "metadata": {},
     "source": [
      "Problem 17"
     ]
    },
    {
     "cell_type": "markdown",
     "metadata": {},
     "source": [
      "If the numbers 1 to 5 are written out in words: one, two, three, four, five, then there are 3 + 3 + 5 + 4 + 4 = 19 letters used in total.\n",
      "\n",
      "If all the numbers from 1 to 1000 (one thousand) inclusive were written out in words, how many letters would be used?\n",
      "\n",
      "\n",
      "NOTE: Do not count spaces or hyphens. For example, 342 (three hundred and forty-two) contains 23 letters and 115 (one hundred and fifteen) contains 20 letters. The use of \"and\" when writing out numbers is in compliance with British usage."
     ]
    },
    {
     "cell_type": "code",
     "collapsed": false,
     "input": [
      "numbers = {\n",
      "    1: \"one\", 2: \"two\", 3: \"three\", 4: \"four\", 5: \"five\",\n",
      "    6: \"six\", 7: \"seven\", 8: \"eight\", 9: \"nine\", 10: \"ten\",\n",
      "    11: \"eleven\", 12: \"twelve\", 13: \"thirteen\", 14: \"fourteen\",\n",
      "    15: \"fifteen\", 16: \"sixteen\", 17: \"seventeen\",\n",
      "    18: \"eighteen\", 19: \"nineteen\", 20: \"twenty\", 30: \"thirty\",\n",
      "    40: \"forty\", 50: \"fifty\", 60: \"sixty\", 70: \"seventy\",\n",
      "    80: \"eighty\", 90: \"ninety\", 1000: \"onethousand\"\n",
      "  }\n",
      "def get_numstring(n):\n",
      "    hundreds = (n / 100) % 10\n",
      "    tens = n % 100\n",
      "    ones = tens % 10\n",
      "    numstr = \"\"\n",
      "    if n in numbers:\n",
      "        numstr = numbers[n]\n",
      "    elif hundreds > 0:\n",
      "        numstr += numbers[hundreds] + \"hundred\"\n",
      "        if tens > 0:\n",
      "            numstr += \"and\"\n",
      "            if tens in numbers:\n",
      "                numstr += numbers[tens]\n",
      "            elif ones > 0:\n",
      "                numstr += numbers[tens-ones] + numbers[ones]\n",
      "            else:\n",
      "                numstr += numbers[tens]\n",
      "    else:\n",
      "        if tens in numbers:\n",
      "            numstr += numbers[n]\n",
      "        elif ones > 0:\n",
      "            numstr += numbers[tens-ones] + numbers[ones]\n",
      "        else:\n",
      "            numstr += numbers[tens]\n",
      "    return numstr\n",
      "\n",
      "letters = 0\n",
      "for x in range(1,6):\n",
      "    letters += len(get_numstring(x))\n",
      "print \"Number of letters in numbers 1 to 5:   \", letters\n",
      "\n",
      "letters = 0\n",
      "for x in range(1,1001):\n",
      "    letters += len(get_numstring(x))\n",
      "print \"Number of letters in numbers 1 to 1000:\", letters"
     ],
     "language": "python",
     "metadata": {},
     "outputs": [
      {
       "output_type": "stream",
       "stream": "stdout",
       "text": [
        "Number of letters in numbers 1 to 5:    19\n",
        "Number of letters in numbers 1 to 1000: 21124\n"
       ]
      }
     ],
     "prompt_number": 54
    },
    {
     "cell_type": "code",
     "collapsed": false,
     "input": [],
     "language": "python",
     "metadata": {},
     "outputs": []
    }
   ],
   "metadata": {}
  }
 ]
}