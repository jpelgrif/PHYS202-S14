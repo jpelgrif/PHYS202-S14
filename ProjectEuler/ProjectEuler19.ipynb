{
 "metadata": {
  "name": ""
 },
 "nbformat": 3,
 "nbformat_minor": 0,
 "worksheets": [
  {
   "cells": [
    {
     "cell_type": "heading",
     "level": 1,
     "metadata": {},
     "source": [
      "Counting Sundays"
     ]
    },
    {
     "cell_type": "heading",
     "level": 3,
     "metadata": {},
     "source": [
      "Problem 19"
     ]
    },
    {
     "cell_type": "markdown",
     "metadata": {},
     "source": [
      "You are given the following information, but you may prefer to do some research for yourself.\n",
      "<ul>\n",
      "<li>1 Jan 1900 was a Monday.</li>\n",
      "<li>Thirty days has September,<br>\n",
      "April, June and November.<br>\n",
      "All the rest have thirty-one,<br>\n",
      "Saving February alone,<br>\n",
      "Which has twenty-eight, rain or shine.<br>\n",
      "And on leap years, twenty-nine.</li>\n",
      "<li>A leap year occurs on any year evenly divisible by 4, but not on a century unless it is divisible by 400.</li>\n",
      "</ul>\n",
      "A leap year occurs on any year evenly divisible by 4, but not on a century unless it is divisible by 400.\n",
      "How many Sundays fell on the first of the month during the twentieth century (1 Jan 1901 to 31 Dec 2000)?"
     ]
    },
    {
     "cell_type": "code",
     "collapsed": false,
     "input": [
      "import numpy as np\n",
      "\n",
      "years = np.zeros((100,12))\n",
      "first = 2 ## Jan 1, 1901 = Tuesday\n",
      "i = 1\n",
      "\n",
      "for year in years:\n",
      "    year[0]  = first\n",
      "    year[1]  = first + 3\n",
      "    year[2]  = first + 3\n",
      "    year[3]  = first + 6\n",
      "    year[4]  = first + 1\n",
      "    year[5]  = first + 4\n",
      "    year[6]  = first + 6\n",
      "    year[7]  = first + 2\n",
      "    year[8]  = first + 5\n",
      "    year[9]  = first\n",
      "    year[10] = first + 3\n",
      "    year[11] = first + 5\n",
      "    if i % 4 == 0:\n",
      "        year[2:12] += 1\n",
      "        first += 2\n",
      "    else:\n",
      "        first += 1\n",
      "    i += 1\n",
      "\n",
      "sundays = 0\n",
      "for year in years:\n",
      "    for fom in year: ## fom = first of month\n",
      "        if fom % 7 == 0:\n",
      "            sundays += 1\n",
      "\n",
      "print \"Number of Sundays that fell on the first of the month during the twentieth century:\", sundays"
     ],
     "language": "python",
     "metadata": {},
     "outputs": [
      {
       "output_type": "stream",
       "stream": "stdout",
       "text": [
        "Number of Sundays that fell on the first of the month during the twentieth century: 171\n"
       ]
      }
     ],
     "prompt_number": 34
    },
    {
     "cell_type": "code",
     "collapsed": false,
     "input": [],
     "language": "python",
     "metadata": {},
     "outputs": []
    }
   ],
   "metadata": {}
  }
 ]
}