{
 "metadata": {
  "name": ""
 },
 "nbformat": 3,
 "nbformat_minor": 0,
 "worksheets": [
  {
   "cells": [
    {
     "cell_type": "heading",
     "level": 1,
     "metadata": {},
     "source": [
      "1000-digit Fibonacci number"
     ]
    },
    {
     "cell_type": "heading",
     "level": 3,
     "metadata": {},
     "source": [
      "Problem 25"
     ]
    },
    {
     "cell_type": "markdown",
     "metadata": {},
     "source": [
      "<p>The Fibonacci sequence is defined by the recurrence relation:</p>\n",
      "<blockquote>F<sub><i>n</i></sub> = F<sub><i>n</i>-1</sub> + F<sub><i>n</i>-2</sub>, where F<sub>1</sub> = 1 and F<sub>2</sub> = 1.</blockquote>\n",
      "<p>Hence the first 12 terms will be:</p>\n",
      "<blockquote>F<sub>1</sub> = 1<br>\n",
      "F<sub>2</sub> = 1<br>\n",
      "F<sub>3</sub> = 2<br>\n",
      "F<sub>4</sub> = 3<br>\n",
      "F<sub>5</sub> = 5<br>\n",
      "F<sub>6</sub> = 8<br>\n",
      "F<sub>7</sub> = 13<br>\n",
      "F<sub>8</sub> = 21<br>\n",
      "F<sub>9</sub> = 34<br>\n",
      "F<sub>10</sub> = 55<br>\n",
      "F<sub>11</sub> = 89<br>\n",
      "F<sub>12</sub> = 144</blockquote>\n",
      "<p>The 12th term, F<sub>12</sub>, is the first term to contain three digits.</p>\n",
      "<p>What is the first term in the Fibonacci sequence to contain 1000 digits?</p>"
     ]
    },
    {
     "cell_type": "code",
     "collapsed": false,
     "input": [
      "a=1\n",
      "b=1\n",
      "c=0\n",
      "i=2\n",
      "digits = 3\n",
      "\n",
      "while c < 10**(digits-1):\n",
      "    i += 1\n",
      "    c = a + b\n",
      "    a = b\n",
      "    b = c\n",
      "\n",
      "print \"Term %i is the first term to contain %i digits\" % (i, digits)\n",
      "\n",
      "a=1\n",
      "b=1\n",
      "c=0\n",
      "i=2\n",
      "digits = 1000\n",
      "\n",
      "while c < 10**(digits-1):\n",
      "    i += 1\n",
      "    c = a + b\n",
      "    a = b\n",
      "    b = c\n",
      "    \n",
      "print \"Term %i is the first term to contain %i digits\" % (i, digits)"
     ],
     "language": "python",
     "metadata": {},
     "outputs": [
      {
       "output_type": "stream",
       "stream": "stdout",
       "text": [
        "Term 12 is the first term to contain 3 digits\n",
        "Term 4782 is the first term to contain 1000 digits\n"
       ]
      }
     ],
     "prompt_number": 11
    },
    {
     "cell_type": "code",
     "collapsed": false,
     "input": [],
     "language": "python",
     "metadata": {},
     "outputs": []
    }
   ],
   "metadata": {}
  }
 ]
}