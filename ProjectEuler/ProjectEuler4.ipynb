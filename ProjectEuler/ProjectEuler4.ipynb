{
 "metadata": {
  "name": "",
  "signature": "sha256:fa5326fca96e2d3cd274ab2302e31de71345ea427a3f9fc3bfa0fda4508c567d"
 },
 "nbformat": 3,
 "nbformat_minor": 0,
 "worksheets": [
  {
   "cells": [
    {
     "cell_type": "heading",
     "level": 1,
     "metadata": {},
     "source": [
      "Largest palindrome product"
     ]
    },
    {
     "cell_type": "heading",
     "level": 3,
     "metadata": {},
     "source": [
      "Problem 4"
     ]
    },
    {
     "cell_type": "markdown",
     "metadata": {},
     "source": [
      "A palindromic number reads the same both ways. The largest palindrome made from the product of two 2-digit numbers is 9009 = 91 \u00d7 99.\n",
      "\n",
      "Find the largest palindrome made from the product of two 3-digit numbers."
     ]
    },
    {
     "cell_type": "code",
     "collapsed": false,
     "input": [
      "def isPalindrome(num):\n",
      "    numarr = []\n",
      "    while num:\n",
      "        numarr.append(num % 10)\n",
      "        num /= 10\n",
      "    if numarr == numarr[::-1]:\n",
      "        return True\n",
      "    else:\n",
      "        return False\n",
      "\n",
      "lpp = 0\n",
      "num1 = 0\n",
      "num2 = 0\n",
      "for x in range(10,100):\n",
      "    for y in range(x,100):\n",
      "        if isPalindrome(x*y) and (x*y)>lpp:\n",
      "            lpp = x*y\n",
      "            num1 = x; num2 = y\n",
      "\n",
      "print \"The largest palindrome made from the product of two 2-digit numbers is %i = %i \u00d7 %i\" % (lpp,num1,num2)\n",
      "\n",
      "lpp = 0\n",
      "num1 = 0\n",
      "num2 = 0\n",
      "for x in range(100,1000):\n",
      "    for y in range(x,1000):\n",
      "        if isPalindrome(x*y) and (x*y)>lpp:\n",
      "            lpp = x*y\n",
      "            num1 = x; num2 = y\n",
      "\n",
      "print \"The largest palindrome made from the product of two 3-digit numbers is %i = %i \u00d7 %i\" % (lpp,num1,num2)"
     ],
     "language": "python",
     "metadata": {},
     "outputs": [
      {
       "output_type": "stream",
       "stream": "stdout",
       "text": [
        "The largest palindrome made from the product of two 2-digit numbers is 9009 = 91 \u00d7 99\n",
        "The largest palindrome made from the product of two 3-digit numbers is 906609 = 913 \u00d7 993"
       ]
      },
      {
       "output_type": "stream",
       "stream": "stdout",
       "text": [
        "\n"
       ]
      }
     ],
     "prompt_number": 11
    }
   ],
   "metadata": {}
  }
 ]
}