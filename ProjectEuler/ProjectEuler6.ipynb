{
 "metadata": {
  "name": ""
 },
 "nbformat": 3,
 "nbformat_minor": 0,
 "worksheets": [
  {
   "cells": [
    {
     "cell_type": "heading",
     "level": 1,
     "metadata": {},
     "source": [
      "Sum square difference"
     ]
    },
    {
     "cell_type": "heading",
     "level": 3,
     "metadata": {},
     "source": [
      "Problem 6"
     ]
    },
    {
     "cell_type": "markdown",
     "metadata": {},
     "source": [
      "<p>The sum of the squares of the first ten natural numbers is,</p>\n",
      "<div style=\"text-align:center\">1<sup>2</sup> + 2<sup>2</sup> + ... + 10<sup>2</sup> = 385</div>\n",
      "<p>The square of the sum of the first ten natural numbers is,</p>\n",
      "<div style=\"text-align:center\">(1 + 2 + ... + 10)<sup>2</sup> = 55<sup>2</sup> = 3025</div>\n",
      "<p>Hence the difference between the sum of the squares of the first ten natural numbers and the square of the sum is 3025 - 385 = 2640.</p>\n",
      "<p>Find the difference between the sum of the squares of the first one hundred natural numbers and the square of the sum.</p>"
     ]
    },
    {
     "cell_type": "code",
     "collapsed": false,
     "input": [
      "def sumsquares(n):\n",
      "    total = 0\n",
      "    for x in range(n+1):\n",
      "        total += x**2\n",
      "    return total\n",
      "\n",
      "def squaresum(n):\n",
      "    total = 0\n",
      "    for x in range(n+1):\n",
      "        total += x\n",
      "    return total**2\n",
      "\n",
      "print \"Sum of the squares of the first ten natural numbers is:\", sumsquares(10)\n",
      "print \"Square of the sum of the first ten natural numbers is:\", squaresum(10)\n",
      "\n",
      "print \"\\nDifference between the sum of the squares of the first\"\n",
      "print \"ten natural numbers and the square of the sum is:\", squaresum(10) - sumsquares(10)\n",
      "\n",
      "print \"\\n\\nDifference between the sum of the squares of the first\"\n",
      "print \"one hundred natural numbers and the square of the sum is:\", squaresum(100) - sumsquares(100)"
     ],
     "language": "python",
     "metadata": {},
     "outputs": [
      {
       "output_type": "stream",
       "stream": "stdout",
       "text": [
        "Sum of the squares of the first ten natural numbers is: 385\n",
        "Square of the sum of the first ten natural numbers is: 3025\n",
        "\n",
        "Difference between the sum of the squares of the first\n",
        "ten natural numbers and the square of the sum is: 2640\n",
        "\n",
        "\n",
        "Difference between the sum of the squares of the first\n",
        "one hundred natural numbers and the square of the sum is: 25164150\n"
       ]
      }
     ],
     "prompt_number": 9
    },
    {
     "cell_type": "code",
     "collapsed": false,
     "input": [],
     "language": "python",
     "metadata": {},
     "outputs": []
    }
   ],
   "metadata": {}
  }
 ]
}