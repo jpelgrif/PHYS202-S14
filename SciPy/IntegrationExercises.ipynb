{
 "metadata": {
  "name": "",
  "signature": "sha256:72eb4009bd98d1a125732ec04c014ef7c9ebbd0ce5aca4b71a0e8f162a176229"
 },
 "nbformat": 3,
 "nbformat_minor": 0,
 "worksheets": [
  {
   "cells": [
    {
     "cell_type": "heading",
     "level": 1,
     "metadata": {},
     "source": [
      "Integration Exercises"
     ]
    },
    {
     "cell_type": "code",
     "collapsed": false,
     "input": [
      "%pylab inline\n",
      "import numpy as np\n",
      "import matplotlib.pyplot as plt\n",
      "import scipy.integrate as integrate"
     ],
     "language": "python",
     "metadata": {},
     "outputs": [
      {
       "output_type": "stream",
       "stream": "stdout",
       "text": [
        "Populating the interactive namespace from numpy and matplotlib\n"
       ]
      }
     ],
     "prompt_number": 2
    },
    {
     "cell_type": "heading",
     "level": 3,
     "metadata": {},
     "source": [
      "Question 1"
     ]
    },
    {
     "cell_type": "markdown",
     "metadata": {},
     "source": [
      "(a) Write two functions trapz(func,x) and simps(func,x) to compute the integral of the function func over the variable x using the trapezoidal rule and Simpson's rule to a file called Integrators.py. Do not use the scipy.integrate built-in functions. Include docstrings with each function that describe what they do. Then import the module and use the functions to answer the following questions."
     ]
    },
    {
     "cell_type": "code",
     "collapsed": false,
     "input": [
      "%%file Integrators.py\n",
      "\n",
      "import numpy as np\n",
      "\n",
      "def trapz(func,x,N):\n",
      "    \"\"\"\n",
      "    Calculates and returns the integral of a function using\n",
      "    the trapezoidal rule.\n",
      "    \n",
      "    Takes as arguments:\n",
      "    the function, \n",
      "    the limits of integration as a tuple of floats (a,b),\n",
      "    and the number of steps, N, used to calculate the integral\n",
      "    \"\"\"\n",
      "    a,b = x\n",
      "    h = (b-a)/N\n",
      "    \n",
      "    k = np.arange(1,N)\n",
      "    I = h*(0.5*func(a) + 0.5*func(b) + func(a+k*h).sum())\n",
      "    return I\n",
      "\n",
      "def simps(func,x,N):\n",
      "    \"\"\"\n",
      "    Calculates and returns the integral of a function using\n",
      "    Simpson's rule.\n",
      "    \n",
      "    Takes as arguments:\n",
      "    the function, \n",
      "    the limits of integration as a tuple of floats (a,b),\n",
      "    and the number of steps, N, used to calculate the integral\n",
      "    \"\"\"\n",
      "    a,b = x\n",
      "    h = (b-a)/N\n",
      "\n",
      "    k1 = np.arange(1,N/2+1)\n",
      "    k2 = np.arange(1,N/2)\n",
      "    return (1./3.)*h*(func(a) + func(b) + 4.*func(a+(2*k1-1)*h).sum()\\\n",
      "                   + 2.*func(a+2*k2*h).sum())"
     ],
     "language": "python",
     "metadata": {},
     "outputs": [
      {
       "output_type": "stream",
       "stream": "stdout",
       "text": [
        "Overwriting Integrators.py\n"
       ]
      }
     ],
     "prompt_number": 3
    },
    {
     "cell_type": "markdown",
     "metadata": {},
     "source": [
      "(b) Use your trapz and simps functions from part (a) to calculate the integral of x4\u22122x+1 from x = 0 to x = 2 with N = 10, N = 100, and N = 1000. Then compare your result to the known correct value of 4.4. What is the percent error in each case?"
     ]
    },
    {
     "cell_type": "code",
     "collapsed": false,
     "input": [
      "import Integrators as myint\n",
      "\n",
      "func = lambda x: x**4 - 2*x + 1\n",
      "a = 0.0\n",
      "b = 2.0\n",
      "\n",
      "print 'Integrals for x^4 - 2x + 1:'\n",
      "\n",
      "print '\\nN = 10'\n",
      "print 'trapz: ', myint.trapz(func,(a,b),10)\n",
      "print '% error: ', 100*abs(myint.trapz(func,(a,b),10)-4.4)/4.4\n",
      "print '\\nsimps: ', myint.simps(func,(a,b),10)\n",
      "print '% error: ', 100*abs(myint.simps(func,(a,b),10)-4.4)/4.4\n",
      "\n",
      "print '\\n\\nN = 100'\n",
      "print 'trapz: ', myint.trapz(func,(a,b),100)\n",
      "print '% error: ', 100*abs(myint.trapz(func,(a,b),100)-4.4)/4.4\n",
      "print '\\nsimps: ', myint.simps(func,(a,b),100)\n",
      "print '% error: ', 100*abs(myint.simps(func,(a,b),100)-4.4)/4.4\n",
      "\n",
      "print '\\n\\nN = 1000'\n",
      "print 'trapz: ', myint.trapz(func,(a,b),1000)\n",
      "print '% error: ', 100*abs(myint.trapz(func,(a,b),1000)-4.4)/4.4\n",
      "print '\\nsimps: ', myint.simps(func,(a,b),1000)\n",
      "print '% error: ', 100*abs(myint.simps(func,(a,b),1000)-4.4)/4.4"
     ],
     "language": "python",
     "metadata": {},
     "outputs": [
      {
       "output_type": "stream",
       "stream": "stdout",
       "text": [
        "Integrals for x^4 - 2x + 1:\n",
        "\n",
        "N = 10\n",
        "trapz:  4.50656\n",
        "% error:  2.42181818182\n",
        "\n",
        "simps:  4.40042666667\n",
        "% error:  0.00969696969697\n",
        "\n",
        "\n",
        "N = 100\n",
        "trapz:  4.401066656\n",
        "% error:  0.0242421818182\n",
        "\n",
        "simps:  4.40000004267\n",
        "% error:  9.69696969187e-07\n",
        "\n",
        "\n",
        "N = 1000\n",
        "trapz:  4.40001066667\n",
        "% error:  0.000242424218175\n",
        "\n",
        "simps:  4.4\n",
        "% error:  9.69729347327e-11\n"
       ]
      }
     ],
     "prompt_number": 49
    },
    {
     "cell_type": "heading",
     "level": 3,
     "metadata": {},
     "source": [
      "Question 2"
     ]
    },
    {
     "cell_type": "markdown",
     "metadata": {},
     "source": [
      "Consider the integral\n",
      "\n",
      "E(x)=(0->x)\u222be^(\u2212t^2) dt\n",
      "\n",
      "This is the error function, commonly seen in probability and statistics. There is no known way to perform this particular integral analytically, although the integrand can be expanded in a Taylor series and terms computed to arbitrary order. For most applications, numerical approaches are the only way forward.\n",
      "\n",
      "(a) Use scipy.integrate.cumtrapz to calculate E(x) for values of x from 0 to 3 in steps of 0.1. Print the result."
     ]
    },
    {
     "cell_type": "code",
     "collapsed": false,
     "input": [
      "t = np.arange(0,3.1,0.1)\n",
      "integrand = exp(-t**2)\n",
      "x = t\n",
      "E = integrate.cumtrapz(integrand,x,initial=0)\n",
      "\n",
      "print E"
     ],
     "language": "python",
     "metadata": {},
     "outputs": [
      {
       "output_type": "stream",
       "stream": "stdout",
       "text": [
        "[ 0.          0.09950249  0.19704446  0.29078049  0.37908424  0.46063146\n",
        "  0.53445532  0.59997046  0.6569664   0.70557392  0.7462108   0.77951463\n",
        "  0.80627088  0.82734325  0.84361215  0.85592503  0.86506023  0.87170427\n",
        "  0.87644128  0.87975207  0.88202044  0.88354398  0.88454709  0.88519453\n",
        "  0.88560418  0.88585826  0.88601274  0.88610482  0.88615862  0.88618943\n",
        "  0.88620673]\n"
       ]
      }
     ],
     "prompt_number": 16
    },
    {
     "cell_type": "markdown",
     "metadata": {},
     "source": [
      "(b) Plot the integrand as a function of t and E(x) as a function of x (both ranging from 0 to 3) on the same graph."
     ]
    },
    {
     "cell_type": "code",
     "collapsed": false,
     "input": [
      "t = np.arange(0,3.1,0.1)\n",
      "integrand = exp(-t**2)\n",
      "x = t\n",
      "E = integrate.cumtrapz(integrand,x,initial=0)\n",
      "\n",
      "plt.xlabel('x, t',fontsize=16)\n",
      "plt.plot(t,integrand,label='integrand')\n",
      "plt.plot(x,E,label='E(x)')\n",
      "plt.legend(loc='center right')\n",
      "plt.show()"
     ],
     "language": "python",
     "metadata": {},
     "outputs": [
      {
       "metadata": {},
       "output_type": "display_data",
       "png": "[encoded data removed]",
       "text": [
        "<matplotlib.figure.Figure at 0x106b10ad0>"
       ]
      }
     ],
     "prompt_number": 76
    },
    {
     "cell_type": "heading",
     "level": 3,
     "metadata": {},
     "source": [
      "Question 3"
     ]
    },
    {
     "cell_type": "markdown",
     "metadata": {},
     "source": [
      "Consider a particle in a one-dimensional box of width L. The probability of finding the particle between a and b is given by\n",
      "\n",
      "P(a,b) = (a->b)\u222b|\u03c8(x)|^2 dx\n",
      "\n",
      "where\n",
      "\n",
      "\u03c8(x) = \u221a(2/L)sin(n\u03c0x/L)\n",
      "\n",
      "is the wavefunction.\n",
      "\n",
      "(a) What is the probability of finding the particle between L/3 and L/2 for the ground state (n = 1) and for the first excited state (n = 2)? Let L = 1. Perform the integral using both scipy.integrate.trapz and scipy.integrate.quad with an accuracy of 6 sig figs. How many slices did you need to use for scipy.integrate.trapz?"
     ]
    },
    {
     "cell_type": "code",
     "collapsed": false,
     "input": [
      "N = 800\n",
      "L = 1.0\n",
      "a,b = L/3, L/2\n",
      "x = np.linspace(a,b,N)\n",
      "\n",
      "print \"Probablity of finding particle between L/3 and L/2:\"\n",
      "\n",
      "n = 1\n",
      "psi = sqrt(2/L) * np.sin(n*np.pi*x / L)\n",
      "P1 = integrate.trapz(abs(psi)**2,x)\n",
      "func = lambda x : abs(sqrt(2/L) * np.sin(n*np.pi*x / L))**2\n",
      "P2 = integrate.quad(func,a,b)[0]\n",
      "print \"\\nn = %i:\" % n\n",
      "print \"using integrate.trapz: P =\", P1\n",
      "print \"using integrate.quad:  P =\", P2\n",
      "\n",
      "\n",
      "n = 2\n",
      "psi = sqrt(2/L) * np.sin(n*np.pi*x / L)\n",
      "P1 = integrate.trapz(abs(psi)**2,x)\n",
      "func = lambda x : abs(sqrt(2/L) * np.sin(n*np.pi*x / L))**2\n",
      "P2 = integrate.quad(func,a,b)[0]\n",
      "print \"\\nn = %i:\" % n\n",
      "print \"using integrate.trapz: P =\", P1\n",
      "print \"using integrate.quad:  P =\", P2\n",
      "\n",
      "print \"\\nNeeded to use %i slices for integrate.trapz to be accurate to 6 sig figs\" % N"
     ],
     "language": "python",
     "metadata": {},
     "outputs": [
      {
       "output_type": "stream",
       "stream": "stdout",
       "text": [
        "Probablity of finding particle between L/3 and L/2:\n",
        "\n",
        "n = 1:\n",
        "using integrate.trapz: P = 0.304498870792\n",
        "using integrate.quad:  P = 0.304498890522\n",
        "\n",
        "n = 2:\n",
        "using integrate.trapz: P = 0.0977505941995\n",
        "using integrate.quad:  P = 0.0977505547389\n",
        "\n",
        "Needed to use 800 slices for integrate.trapz to be accurate to 6 sig figs\n"
       ]
      }
     ],
     "prompt_number": 11
    },
    {
     "cell_type": "markdown",
     "metadata": {},
     "source": [
      "(b) Make a plot of |\u03c8(x)|^2 vs. x for the first two excited states with L=1."
     ]
    },
    {
     "cell_type": "code",
     "collapsed": false,
     "input": [
      "N = 100\n",
      "L = 1.0\n",
      "a,b = 0, L\n",
      "x = np.linspace(a,b,N)\n",
      "\n",
      "n = 1\n",
      "psi1 = sqrt(2/L) * np.sin(n*np.pi*x / L)\n",
      "n = 2\n",
      "psi2 = sqrt(2/L) * np.sin(n*np.pi*x / L)\n",
      "\n",
      "plt.title('First two excited states, L=1',fontsize=18)\n",
      "plt.xlabel('x',fontsize=14)\n",
      "plt.ylabel(r'$|\\psi(x)|^2$',fontsize=18)\n",
      "\n",
      "plt.plot(x,abs(psi1)**2,label='n=1')\n",
      "plt.plot(x,abs(psi2)**2,label='n=2')\n",
      "\n",
      "plt.ylim(0,2.1)\n",
      "\n",
      "plt.legend()\n",
      "\n",
      "plt.show()"
     ],
     "language": "python",
     "metadata": {},
     "outputs": [
      {
       "metadata": {},
       "output_type": "display_data",
       "png": "[encoded data removed]",
       "text": [
        "<matplotlib.figure.Figure at 0x106224310>"
       ]
      }
     ],
     "prompt_number": 13
    },
    {
     "cell_type": "heading",
     "level": 3,
     "metadata": {},
     "source": [
      "Question 4"
     ]
    },
    {
     "cell_type": "markdown",
     "metadata": {},
     "source": [
      "Integrals of mass density lead to three interesting quantities:\n",
      "\n",
      "M=\u222b\u03c1dV\n",
      "\n",
      "r\u20d7cm = (xcm,ycm,zcm) = (1/M)\u222br\u20d7\u03c1dV\n",
      "\n",
      "Icm = \u222b(r\u2212rcm)^2 \u03c1dV\n",
      "\n",
      "where M is the total mass (a scalar), r\u20d7 cm is the center of mass position (a vector of 3 components), Icm are the moments of inertia about the center of mass (diagonals of a 3x3 matrix), and the mass density, \u03c1, may be a function of the spatial variables.\n",
      "\n",
      "Consider a rectangular box: length (in x) = 0.2 m, width (in y) = 0.2 m, and height (in z) = 1.0 m centered on the origin, (0,0,0) and with a mass density, \u03c1(x,y,z) = (100 kg/m4)(y + 0.1) + (100 kg/m5)z2 for x, y, and z in meters.\n",
      "\n",
      "<img src=\"http://i.imgur.com/24xlOSV.png\" width=\"200\">\n",
      "\n",
      "(a) Use numerical integration to find M, r\u20d7 cm, and Icm. Note that you need M to compute r\u20d7 cm and r\u20d7 cm to compute Icm. The moments of inertia Icm are Ixx, Iyy, and Izz, where e.g. Ixx = \u222b((y\u2212ycm)^2+(z\u2212zcm)^2)\u03c1dV, etc."
     ]
    },
    {
     "cell_type": "code",
     "collapsed": false,
     "input": [
      "rho = lambda z,y,x : 100 * (y + .1) + 100 * z**2\n",
      "\n",
      "xmin,xmax = -.1,.1\n",
      "ymin = lambda x:   -.1\n",
      "ymax = lambda x:    .1\n",
      "zmin = lambda x,y: -.5\n",
      "zmax = lambda x,y:  .5\n",
      "\n",
      "M = integrate.tplquad(rho, xmin, xmax, ymin, ymax, zmin, zmax)[0]\n",
      "\n",
      "xcmIntegrand = lambda z,y,x : ( 100 * (y + .1) + 100 * z**2 ) * x\n",
      "ycmIntegrand = lambda z,y,x : ( 100 * (y + .1) + 100 * z**2 ) * y\n",
      "zcmIntegrand = lambda z,y,x : ( 100 * (y + .1) + 100 * z**2 ) * z\n",
      "\n",
      "xcm = (1/M)*integrate.tplquad(xcmIntegrand, xmin, xmax, ymin, ymax, zmin, zmax)[0]\n",
      "ycm = (1/M)*integrate.tplquad(ycmIntegrand, xmin, xmax, ymin, ymax, zmin, zmax)[0]\n",
      "zcm = (1/M)*integrate.tplquad(zcmIntegrand, xmin, xmax, ymin, ymax, zmin, zmax)[0]\n",
      "\n",
      "rcm = (xcm,ycm,zcm)\n",
      "\n",
      "IxxIntegrand = lambda z,y,x : ((y-ycm)**2 + (z-zcm)**2)*( 100 * (y + .1) + 100 * z**2 )\n",
      "IyyIntegrand = lambda z,y,x : ((x-xcm)**2 + (z-zcm)**2)*( 100 * (y + .1) + 100 * z**2 )\n",
      "IzzIntegrand = lambda z,y,x : ((y-ycm)**2 + (x-xcm)**2)*( 100 * (y + .1) + 100 * z**2 )\n",
      "\n",
      "Ixx = integrate.tplquad(IxxIntegrand, xmin, xmax, ymin, ymax, zmin, zmax)[0]\n",
      "Iyy = integrate.tplquad(IyyIntegrand, xmin, xmax, ymin, ymax, zmin, zmax)[0]\n",
      "Izz = integrate.tplquad(IzzIntegrand, xmin, xmax, ymin, ymax, zmin, zmax)[0]\n",
      "\n",
      "Icm = (Ixx,Iyy,Izz)\n",
      "\n",
      "print \"M (kg)                      =\", M\n",
      "print \"rcm (m) (xcm,ycm,zcm)       =\", rcm\n",
      "print \"Icm (kg\u00b7m^2) (Ixx,Iyy,Izz)  =\", Icm"
     ],
     "language": "python",
     "metadata": {},
     "outputs": [
      {
       "output_type": "stream",
       "stream": "stdout",
       "text": [
        "M (kg)                      = 0.733333333333\n",
        "rcm (m) (xcm,ycm,zcm)       = (0.0, 0.018181818181818184, 0.0)\n",
        "Icm (kg\u00b7m^2) (Ixx,Iyy,Izz)  = (0.08553535353535353, 0.08577777777777779, 0.004646464646464648)\n"
       ]
      }
     ],
     "prompt_number": 9
    },
    {
     "cell_type": "markdown",
     "metadata": {},
     "source": [
      "(b) The mass, center of mass, and moments of inertia can be easily computed analytically for a rectangular box of uniform density. (Compute them yourself or look them up). Verify your algorithm from part (a) works by having it compute the result for this test case. How accurate (how many sig figs?) is the numerical result?"
     ]
    },
    {
     "cell_type": "code",
     "collapsed": false,
     "input": [
      "rho = lambda z,y,x : 1.0 ## kg / m^3\n",
      "\n",
      "xmin,xmax = -.1,.1\n",
      "ymin = lambda x:   -.1\n",
      "ymax = lambda x:    .1\n",
      "zmin = lambda x,y: -.5\n",
      "zmax = lambda x,y:  .5\n",
      "\n",
      "M = integrate.tplquad(rho, xmin, xmax, ymin, ymax, zmin, zmax)[0]\n",
      "\n",
      "xcmIntegrand = lambda z,y,x : ( 1.0 ) * x\n",
      "ycmIntegrand = lambda z,y,x : ( 1.0 ) * y\n",
      "zcmIntegrand = lambda z,y,x : ( 1.0 ) * z\n",
      "\n",
      "xcm = (1/M)*integrate.tplquad(xcmIntegrand, xmin, xmax, ymin, ymax, zmin, zmax)[0]\n",
      "ycm = (1/M)*integrate.tplquad(ycmIntegrand, xmin, xmax, ymin, ymax, zmin, zmax)[0]\n",
      "zcm = (1/M)*integrate.tplquad(zcmIntegrand, xmin, xmax, ymin, ymax, zmin, zmax)[0]\n",
      "\n",
      "rcm = (xcm,ycm,zcm)\n",
      "\n",
      "IxxIntegrand = lambda z,y,x : ((y-ycm)**2 + (z-zcm)**2)*( 1.0 )\n",
      "IyyIntegrand = lambda z,y,x : ((x-xcm)**2 + (z-zcm)**2)*( 1.0 )\n",
      "IzzIntegrand = lambda z,y,x : ((y-ycm)**2 + (x-xcm)**2)*( 1.0 )\n",
      "\n",
      "Ixx = integrate.tplquad(IxxIntegrand, xmin, xmax, ymin, ymax, zmin, zmax)[0]\n",
      "Iyy = integrate.tplquad(IyyIntegrand, xmin, xmax, ymin, ymax, zmin, zmax)[0]\n",
      "Izz = integrate.tplquad(IzzIntegrand, xmin, xmax, ymin, ymax, zmin, zmax)[0]\n",
      "\n",
      "Icm = (Ixx,Iyy,Izz)\n",
      "\n",
      "MExact = (0.2*0.2*1.0)*1.0\n",
      "rcmExact = (0.,0.,0.)\n",
      "IxxExact = MExact / 12 * (.2**2 + 1.0**2)\n",
      "IyyExact = MExact / 12 * (.2**2 + 1.0**2)\n",
      "IzzExact = MExact / 12 * (.2**2 + .2**2)\n",
      "IcmExact = (IxxExact,IyyExact,IzzExact)\n",
      "\n",
      "print \"Expected values:\"\n",
      "print \"M (kg)                      =\", MExact\n",
      "print \"rcm (m) (xcm,ycm,zcm)       =\", rcmExact\n",
      "print \"Icm (kg\u00b7m^2) (Ixx,Iyy,Izz)  =\", IcmExact\n",
      "\n",
      "print \"\\n\\nM (kg)                      =\", M\n",
      "print \"rcm (m) (xcm,ycm,zcm)       =\", rcm\n",
      "print \"Icm (kg\u00b7m^2) (Ixx,Iyy,Izz)  =\", Icm"
     ],
     "language": "python",
     "metadata": {},
     "outputs": [
      {
       "output_type": "stream",
       "stream": "stdout",
       "text": [
        "Expected values:\n",
        "M (kg)                      = 0.04\n",
        "rcm (m) (xcm,ycm,zcm)       = (0.0, 0.0, 0.0)\n",
        "Icm (kg\u00b7m^2) (Ixx,Iyy,Izz)  = (0.0034666666666666674, 0.0034666666666666674, 0.0002666666666666668)\n",
        "\n",
        "\n",
        "M (kg)                      = 0.04\n",
        "rcm (m) (xcm,ycm,zcm)       = (0.0, 0.0, 0.0)\n",
        "Icm (kg\u00b7m^2) (Ixx,Iyy,Izz)  = (0.0034666666666666674, 0.0034666666666666665, 0.00026666666666666673)\n"
       ]
      }
     ],
     "prompt_number": 14
    },
    {
     "cell_type": "code",
     "collapsed": false,
     "input": [],
     "language": "python",
     "metadata": {},
     "outputs": []
    }
   ],
   "metadata": {}
  }
 ]
}