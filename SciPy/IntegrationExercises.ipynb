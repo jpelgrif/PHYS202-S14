{
 "metadata": {
  "name": "",
  "signature": "sha256:fb58f46926221f9d6ed07f575ea580bbf4afb8c27ada7281c7ce0b0e3395488d"
 },
 "nbformat": 3,
 "nbformat_minor": 0,
 "worksheets": [
  {
   "cells": [
    {
     "cell_type": "heading",
     "level": 1,
     "metadata": {},
     "source": [
      "Integration Exercises"
     ]
    },
    {
     "cell_type": "code",
     "collapsed": false,
     "input": [
      "%pylab inline\n",
      "import numpy as np\n",
      "import matplotlib.pyplot as plt"
     ],
     "language": "python",
     "metadata": {},
     "outputs": [
      {
       "output_type": "stream",
       "stream": "stdout",
       "text": [
        "Populating the interactive namespace from numpy and matplotlib\n"
       ]
      }
     ],
     "prompt_number": 10
    },
    {
     "cell_type": "heading",
     "level": 3,
     "metadata": {},
     "source": [
      "Question 1"
     ]
    },
    {
     "cell_type": "markdown",
     "metadata": {},
     "source": [
      "(a) Write two functions trapz(func,x) and simps(func,x) to compute the integral of the function func over the variable x using the trapezoidal rule and Simpson's rule to a file called Integrators.py. Do not use the scipy.integrate built-in functions. Include docstrings with each function that describe what they do. Then import the module and use the functions to answer the following questions."
     ]
    },
    {
     "cell_type": "code",
     "collapsed": false,
     "input": [
      "%%file Integrators.py\n",
      "\n",
      "import numpy as np\n",
      "\n",
      "def trapz(func,x,N):\n",
      "    \"\"\"\n",
      "    Calculates and returns the integral of a function using\n",
      "    the trapezoidal rule.\n",
      "    \n",
      "    Takes as arguments:\n",
      "    the function, \n",
      "    the limits of integration as a tuple of floats (a,b),\n",
      "    and the number of steps, N, used to calculate the integral\n",
      "    \"\"\"\n",
      "    a,b = x\n",
      "    h = (b-a)/N\n",
      "    \n",
      "    k = np.arange(1,N)\n",
      "    I = h*(0.5*func(a) + 0.5*func(b) + func(a+k*h).sum())\n",
      "    return I\n",
      "\n",
      "def simps(func,x,N):\n",
      "    \"\"\"\n",
      "    Calculates and returns the integral of a function using\n",
      "    Simpson's rule.\n",
      "    \n",
      "    Takes as arguments:\n",
      "    the function, \n",
      "    the limits of integration as a tuple of floats (a,b),\n",
      "    and the number of steps, N, used to calculate the integral\n",
      "    \"\"\"\n",
      "    a,b = x\n",
      "    h = (b-a)/N\n",
      "\n",
      "    k1 = np.arange(1,N/2+1)\n",
      "    k2 = np.arange(1,N/2)\n",
      "    return (1./3.)*h*(func(a) + func(b) + 4.*func(a+(2*k1-1)*h).sum()\\\n",
      "                   + 2.*func(a+2*k2*h).sum())"
     ],
     "language": "python",
     "metadata": {},
     "outputs": [
      {
       "output_type": "stream",
       "stream": "stdout",
       "text": [
        "Overwriting Integrators.py\n"
       ]
      }
     ],
     "prompt_number": 44
    },
    {
     "cell_type": "markdown",
     "metadata": {},
     "source": [
      "(b) Use your trapz and simps functions from part (a) to calculate the integral of x4\u22122x+1 from x = 0 to x = 2 with N = 10, N = 100, and N = 1000. Then compare your result to the known correct value of 4.4. What is the percent error in each case?"
     ]
    },
    {
     "cell_type": "code",
     "collapsed": false,
     "input": [
      "import Integrators as myint\n",
      "\n",
      "func = lambda x: x**4 - 2*x + 1\n",
      "a = 0.0\n",
      "b = 2.0\n",
      "\n",
      "print 'Integrals for x^4 - 2x + 1:'\n",
      "\n",
      "print '\\nN = 10'\n",
      "print 'trapz: ', myint.trapz(func,(a,b),10)\n",
      "print '% error: ', 100*abs(myint.trapz(func,(a,b),10)-4.4)/4.4\n",
      "print '\\nsimps: ', myint.simps(func,(a,b),10)\n",
      "print '% error: ', 100*abs(myint.simps(func,(a,b),10)-4.4)/4.4\n",
      "\n",
      "print '\\n\\nN = 100'\n",
      "print 'trapz: ', myint.trapz(func,(a,b),100)\n",
      "print '% error: ', 100*abs(myint.trapz(func,(a,b),100)-4.4)/4.4\n",
      "print '\\nsimps: ', myint.simps(func,(a,b),100)\n",
      "print '% error: ', 100*abs(myint.simps(func,(a,b),100)-4.4)/4.4\n",
      "\n",
      "print '\\n\\nN = 1000'\n",
      "print 'trapz: ', myint.trapz(func,(a,b),1000)\n",
      "print '% error: ', 100*abs(myint.trapz(func,(a,b),1000)-4.4)/4.4\n",
      "print '\\nsimps: ', myint.simps(func,(a,b),1000)\n",
      "print '% error: ', 100*abs(myint.simps(func,(a,b),1000)-4.4)/4.4"
     ],
     "language": "python",
     "metadata": {},
     "outputs": [
      {
       "output_type": "stream",
       "stream": "stdout",
       "text": [
        "Integrals for x^4 - 2x + 1:\n",
        "\n",
        "N = 10\n",
        "trapz:  4.50656\n",
        "% error:  2.42181818182\n",
        "\n",
        "simps:  4.40042666667\n",
        "% error:  0.00969696969697\n",
        "\n",
        "\n",
        "N = 100\n",
        "trapz:  4.401066656\n",
        "% error:  0.0242421818182\n",
        "\n",
        "simps:  4.40000004267\n",
        "% error:  9.69696969187e-07\n",
        "\n",
        "\n",
        "N = 1000\n",
        "trapz:  4.40001066667\n",
        "% error:  0.000242424218175\n",
        "\n",
        "simps:  4.4\n",
        "% error:  9.69729347327e-11\n"
       ]
      }
     ],
     "prompt_number": 49
    },
    {
     "cell_type": "heading",
     "level": 3,
     "metadata": {},
     "source": [
      "Question 2"
     ]
    },
    {
     "cell_type": "markdown",
     "metadata": {},
     "source": [
      "Consider the integral\n",
      "\n",
      "E(x)=(0->x)\u222be^(\u2212t^2) dt\n",
      "\n",
      "This is the error function, commonly seen in probability and statistics. There is no known way to perform this particular integral analytically, although the integrand can be expanded in a Taylor series and terms computed to arbitrary order. For most applications, numerical approaches are the only way forward.\n",
      "\n",
      "(a) Use scipy.integrate.cumtrapz to calculate E(x) for values of x from 0 to 3 in steps of 0.1. Print the result."
     ]
    },
    {
     "cell_type": "code",
     "collapsed": false,
     "input": [
      "import scipy.integrate as integrate\n",
      "\n",
      "t = np.arange(0,3.1,0.1)\n",
      "integrand = exp(-t**2)\n",
      "x = t\n",
      "E = integrate.cumtrapz(integrand,x,initial=0)\n",
      "\n",
      "print E"
     ],
     "language": "python",
     "metadata": {},
     "outputs": [
      {
       "output_type": "stream",
       "stream": "stdout",
       "text": [
        "[ 0.          0.09950249  0.19704446  0.29078049  0.37908424  0.46063146\n",
        "  0.53445532  0.59997046  0.6569664   0.70557392  0.7462108   0.77951463\n",
        "  0.80627088  0.82734325  0.84361215  0.85592503  0.86506023  0.87170427\n",
        "  0.87644128  0.87975207  0.88202044  0.88354398  0.88454709  0.88519453\n",
        "  0.88560418  0.88585826  0.88601274  0.88610482  0.88615862  0.88618943\n",
        "  0.88620673]\n"
       ]
      }
     ],
     "prompt_number": 83
    },
    {
     "cell_type": "markdown",
     "metadata": {},
     "source": [
      "(b) Plot the integrand as a function of t and E(x) as a function of x (both ranging from 0 to 3) on the same graph."
     ]
    },
    {
     "cell_type": "code",
     "collapsed": false,
     "input": [
      "t = np.arange(0,3.1,0.1)\n",
      "integrand = exp(-t**2)\n",
      "x = t\n",
      "E = integrate.cumtrapz(integrand,x,initial=0)\n",
      "\n",
      "plt.xlabel('x, t',fontsize=16)\n",
      "plt.plot(t,integrand,label='integrand')\n",
      "plt.plot(x,E,label='E(x)')\n",
      "plt.legend(loc='center right')\n",
      "plt.show()"
     ],
     "language": "python",
     "metadata": {},
     "outputs": [
      {
       "metadata": {},
       "output_type": "display_data",
       "png": "[encoded data removed]",
       "text": [
        "<matplotlib.figure.Figure at 0x106b10ad0>"
       ]
      }
     ],
     "prompt_number": 76
    },
    {
     "cell_type": "heading",
     "level": 3,
     "metadata": {},
     "source": [
      "Question 3"
     ]
    },
    {
     "cell_type": "markdown",
     "metadata": {},
     "source": [
      "Consider a particle in a one-dimensional box of width L. The probability of finding the particle between a and b is given by\n",
      "\n",
      "P(a,b) = (a->b)\u222b|\u03c8(x)|^2 dx\n",
      "\n",
      "where\n",
      "\n",
      "\u03c8(x) = \u221a(2/L)sin(n\u03c0x/L)\n",
      "\n",
      "is the wavefunction.\n",
      "\n",
      "(a) What is the probability of finding the particle between L/3 and L/2 for the ground state (n = 1) and for the first excited state (n = 2)? Let L = 1. Perform the integral using both scipy.integrate.trapz and scipy.integrate.quad with an accuracy of 6 sig figs. How many slices did you need to use for scipy.integrate.trapz?"
     ]
    },
    {
     "cell_type": "code",
     "collapsed": false,
     "input": [
      "N = 10\n",
      "L = 1.0\n",
      "x = np.linspace(L/3,L/2,N)\n",
      "\n",
      "n = 1\n",
      "psi = sqrt(2/L) * np.sqrt(n*np.pi*x / L)\n",
      "P = integrate.trapz(abs(psi)**2,x)\n",
      "print P\n",
      "\n",
      "n = 2\n",
      "psi = sqrt(2/L) * np.sqrt(n*np.pi*x / L)\n",
      "P = integrate.trapz(abs(psi)**2,x)\n",
      "print P"
     ],
     "language": "python",
     "metadata": {},
     "outputs": [
      {
       "output_type": "stream",
       "stream": "stdout",
       "text": [
        "0.436332312999\n",
        "0.872664625997\n"
       ]
      }
     ],
     "prompt_number": 96
    },
    {
     "cell_type": "code",
     "collapsed": false,
     "input": [],
     "language": "python",
     "metadata": {},
     "outputs": [],
     "prompt_number": 85
    },
    {
     "cell_type": "code",
     "collapsed": false,
     "input": [],
     "language": "python",
     "metadata": {},
     "outputs": []
    }
   ],
   "metadata": {}
  }
 ]
}