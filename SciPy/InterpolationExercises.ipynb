{
 "metadata": {
  "name": "",
  "signature": "sha256:c2fe3bdca74f9771a06b802941177273e8a6c9e26ec16fdecd234cea2a524e0e"
 },
 "nbformat": 3,
 "nbformat_minor": 0,
 "worksheets": [
  {
   "cells": [
    {
     "cell_type": "heading",
     "level": 1,
     "metadata": {},
     "source": [
      "Interpolation Exercises"
     ]
    },
    {
     "cell_type": "code",
     "collapsed": false,
     "input": [
      "%pylab inline\n",
      "import numpy as np\n",
      "import matplotlib.pyplot as plt\n",
      "from scipy.interpolate import interp1d "
     ],
     "language": "python",
     "metadata": {},
     "outputs": [
      {
       "output_type": "stream",
       "stream": "stdout",
       "text": [
        "Populating the interactive namespace from numpy and matplotlib\n"
       ]
      }
     ],
     "prompt_number": 1
    },
    {
     "cell_type": "heading",
     "level": 3,
     "metadata": {},
     "source": [
      "Question 1"
     ]
    },
    {
     "cell_type": "markdown",
     "metadata": {},
     "source": [
      "It is common to test functions where you know the answer they should give. Let's test the dipolePotential() function that we previously saved in Electrostatics.py to see that the function is zero along the bisector between the charges.\n",
      "\n",
      "First, set up a grid and evaluate the function."
     ]
    },
    {
     "cell_type": "code",
     "collapsed": false,
     "input": [
      "from Electrostatics import *\n",
      "x,y = np.meshgrid(np.arange(-5,5.01,0.5),np.arange(-5,5.01,0.5))\n",
      "Vdipole = dipolePotential(x,y,1e-9,2.)\n",
      "plt.contour(x,y,Vdipole,cmap=cm.coolwarm)\n",
      "plt.show()"
     ],
     "language": "python",
     "metadata": {},
     "outputs": [
      {
       "output_type": "stream",
       "stream": "stderr",
       "text": [
        "Electrostatics.py:13: RuntimeWarning: divide by zero encountered in divide\n",
        "  Vxy = k*q/np.sqrt(((x-Xc)**2 + (y-Yc)**2))\n"
       ]
      },
      {
       "metadata": {},
       "output_type": "display_data",
       "png": "[encoded data removed]",
       "text": [
        "<matplotlib.figure.Figure at 0x106bbced0>"
       ]
      }
     ],
     "prompt_number": 2
    },
    {
     "cell_type": "markdown",
     "metadata": {},
     "source": [
      "(a) Use a boolean mask to locate the positions where x=0."
     ]
    },
    {
     "cell_type": "code",
     "collapsed": false,
     "input": [
      "ii = (x==0)\n",
      "y[ii]"
     ],
     "language": "python",
     "metadata": {},
     "outputs": [
      {
       "metadata": {},
       "output_type": "pyout",
       "prompt_number": 21,
       "text": [
        "array([-5. , -4.5, -4. , -3.5, -3. , -2.5, -2. , -1.5, -1. , -0.5,  0. ,\n",
        "        0.5,  1. ,  1.5,  2. ,  2.5,  3. ,  3.5,  4. ,  4.5,  5. ])"
       ]
      }
     ],
     "prompt_number": 21
    },
    {
     "cell_type": "markdown",
     "metadata": {},
     "source": [
      "(b) Check that Vdipole for these locations is zero. i.e. print the value of Vdipole for these locations using your mask from part (a)."
     ]
    },
    {
     "cell_type": "code",
     "collapsed": false,
     "input": [
      "print Vdipole[ii]"
     ],
     "language": "python",
     "metadata": {},
     "outputs": [
      {
       "output_type": "stream",
       "stream": "stdout",
       "text": [
        "[ 0.  0.  0.  0.  0.  0.  0.  0.  0.  0.  0.  0.  0.  0.  0.  0.  0.  0.\n",
        "  0.  0.  0.]\n"
       ]
      }
     ],
     "prompt_number": 20
    },
    {
     "cell_type": "heading",
     "level": 3,
     "metadata": {},
     "source": [
      "Question 2"
     ]
    },
    {
     "cell_type": "markdown",
     "metadata": {},
     "source": [
      "Thermistors are electrical devices that measure temperature. They are made out of a material whose resistance changes very predictably with temperature. In the lab we measure the resistance of the thermistor and then compute the temperature from the engineering data that the manufacturer sends with the devices. The table below is data for a set of thermistors used in PHYS 340. The temperature values are in \u2218C and the resistances in mega-Ohms, M\u03a9.\n",
      "\n",
      "    Temp   Res   Temp   Res   Temp   Res   Temp   Res   Temp   Res\n",
      "    --------------------------------------------------------------- \n",
      "     10   3.239   16   2.610   22   2.169   28   1.857   34   1.634\n",
      "     11   3.118   17   2.526   23   2.110   29   1.815   35   1.603\n",
      "     12   3.004   18   2.446   24   2.053   30   1.774   36   1.574\n",
      "     13   2.897   19   2.371   25   2.000   31   1.736   37   1.547\n",
      "     14   2.795   20   2.300   26   1.950   32   1.700   38   1.521\n",
      "     15   2.700   21   2.233   27   1.902   33   1.666   39   1.496\n",
      "\n",
      "(a) Let's turn this look-up table into a continuous function. Write a reusable function Temp(Resistance) that takes any value of Resistance and returns the interpolated temperature. Be sure to include a docstring in your function. Check the documentation for interp1d to make sure you set up the arrays properly."
     ]
    },
    {
     "cell_type": "code",
     "collapsed": false,
     "input": [
      "def Temp(Resistance):\n",
      "    \"\"\"Return the temperature for a given\n",
      "    resistance\n",
      "    \n",
      "    Units returned are [degrees C] if input\n",
      "    units are [mega-Ohms]\"\"\"\n",
      "    temp = np.arange(10,40)\n",
      "    res = np.array([3.239,3.118,3.004,2.897,2.795,2.700,\\\n",
      "                    2.610,2.526,2.446,2.371,2.300,2.233,\\\n",
      "                    2.169,2.110,2.053,2.000,1.950,1.902,\\\n",
      "                    1.857,1.815,1.774,1.736,1.700,1.666,\\\n",
      "                    1.634,1.603,1.574,1.547,1.521,1.496])\n",
      "    temp = temp[::-1]\n",
      "    res = res[::-1]\n",
      "    \n",
      "    tempInterp = interp1d(res,temp)\n",
      "    \n",
      "    return tempInterp(Resistance)"
     ],
     "language": "python",
     "metadata": {},
     "outputs": [],
     "prompt_number": 3
    },
    {
     "cell_type": "markdown",
     "metadata": {},
     "source": [
      "(b) Show that the function returns expected values, including some from the table for a few specific input resistances."
     ]
    },
    {
     "cell_type": "code",
     "collapsed": false,
     "input": [
      "print Temp(3.004)\n",
      "print Temp(2.000)\n",
      "print Temp(3.14159)\n",
      "print Temp(2.667)"
     ],
     "language": "python",
     "metadata": {},
     "outputs": [
      {
       "output_type": "stream",
       "stream": "stdout",
       "text": [
        "12.0\n",
        "25.0\n",
        "10.8050413223\n",
        "15.3666666667\n"
       ]
      }
     ],
     "prompt_number": 31
    },
    {
     "cell_type": "markdown",
     "metadata": {},
     "source": [
      "(c) Plot Temp(Resistance) vs. Resistance for a reasonable range of Resistance with reasonably fine sampling. Include as an annotation on the plot the value of the temperature for a resistance of 1.75 M\u03a9. (It's up to you to decide what \"reasonable\" means in both cases.)"
     ]
    },
    {
     "cell_type": "code",
     "collapsed": false,
     "input": [
      "res = np.arange(1.5,3.3,.1)\n",
      "temp = Temp(res)\n",
      "\n",
      "plt.figure(figsize=(10, 6), dpi=80)\n",
      "\n",
      "plt.plot(res,temp,1.75,Temp(1.75),'ro')\n",
      "\n",
      "plt.xlabel(r'Resistance (M$\\Omega$)', fontsize=14)\n",
      "plt.ylabel(r'Temperature ($\\degree$C)', fontsize=14)\n",
      "plt.title(r'Temperature vs. Resistance',fontsize=20)\n",
      "\n",
      "annotateLabel = r'%.2f$\\degree$C @ 1.75 M$\\Omega$' % Temp(1.75)\n",
      "plt.annotate(annotateLabel,\n",
      "             xy =(1.75,Temp(1.75)), xycoords='data',\n",
      "             xytext=(+10, +30), textcoords='offset points', fontsize=16,\n",
      "             arrowprops=dict(arrowstyle=\"->\", connectionstyle=\"arc3,rad=.2\"))\n",
      "\n",
      "plt.xlim(1.5,3.2)\n",
      "\n",
      "plt.show()"
     ],
     "language": "python",
     "metadata": {},
     "outputs": [
      {
       "metadata": {},
       "output_type": "display_data",
       "png": "[encoded data removed]",
       "text": [
        "<matplotlib.figure.Figure at 0x106f227d0>"
       ]
      }
     ],
     "prompt_number": 85
    },
    {
     "cell_type": "code",
     "collapsed": false,
     "input": [],
     "language": "python",
     "metadata": {},
     "outputs": []
    }
   ],
   "metadata": {}
  }
 ]
}