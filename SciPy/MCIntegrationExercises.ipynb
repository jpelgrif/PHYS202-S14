{
 "metadata": {
  "name": "",
  "signature": "sha256:524e5ec664a721e5f4e9e0e884520f4528b4232a072ed820af2cb88d8b1f2996"
 },
 "nbformat": 3,
 "nbformat_minor": 0,
 "worksheets": [
  {
   "cells": [
    {
     "cell_type": "heading",
     "level": 1,
     "metadata": {},
     "source": [
      "Monte Carlo Integration Exercises"
     ]
    },
    {
     "cell_type": "code",
     "collapsed": false,
     "input": [
      "%pylab inline\n",
      "import numpy as np\n",
      "import matplotlib.pyplot as plt"
     ],
     "language": "python",
     "metadata": {},
     "outputs": [
      {
       "output_type": "stream",
       "stream": "stdout",
       "text": [
        "Populating the interactive namespace from numpy and matplotlib\n"
       ]
      }
     ],
     "prompt_number": 2
    },
    {
     "cell_type": "heading",
     "level": 3,
     "metadata": {},
     "source": [
      "Question 1"
     ]
    },
    {
     "cell_type": "markdown",
     "metadata": {},
     "source": [
      "Let\u2019s compute the electric potential from a plane of charge as shown in the figure using Monte Carlo integration.\n",
      "<img src=\"http://i.imgur.com/jK1ZY3h.png\" width=\"500\">\n",
      "The integral comes from summing all the potentials from the chunks of \u201cpoint\u201d charges. Just as we summed two charges for a dipole, now we\u2019ll sum many charges. The important part is to understand how dQ, modeled as a point charge, is related to \u03c3dA, where \u03c3 is the surface charge density = charge/area (\u03c3=Q/A ) Review your notes from PHYS 133 if you need a refresher.\n",
      "\n",
      "We want to use our previously defined pointPotential() function from Electrostatics.py, so we have to import it."
     ]
    },
    {
     "cell_type": "code",
     "collapsed": false,
     "input": [
      "#import our point potential function\n",
      "from Electrostatics import *"
     ],
     "language": "python",
     "metadata": {},
     "outputs": [],
     "prompt_number": 3
    },
    {
     "cell_type": "markdown",
     "metadata": {},
     "source": [
      "(a) Use the sample mean method to compute the potential at point P(2,3) due to the disk of charge for different numbers of samples N=(10^1,10^2,10^3,10^4,10^5,10^6). Report the value and its statistical uncertainty for each sample size. How does the result depend on N?"
     ]
    },
    {
     "cell_type": "code",
     "collapsed": false,
     "input": [
      "P = (2,3)\n",
      "Px,Py = P\n",
      "sigma = 1. * 10**-6 ## C/m^2\n",
      "xmin = -1.; xmax = 1.\n",
      "ymin = 0.; ymax = 2.\n",
      "\n",
      "for N in [10**1,10**2,10**3,10**4,10**5,10**6]:\n",
      "\n",
      "    samples_x = xmin + (xmax-xmin)*np.random.random_sample(N)\n",
      "    samples_y = ymin + (ymax-ymin)*np.random.random_sample(N)\n",
      "\n",
      "    func1 = pointPotential(Px,Py,sigma,samples_x,samples_y)\n",
      "\n",
      "    I = func1.mean()*(xmax-xmin)*(ymax-ymin)\n",
      "    Iunc = (xmax-xmin)*(ymax-ymin)*np.sqrt( ((func1**2).mean()-(func1.mean())**2)/N )\n",
      "\n",
      "    print \"Potential = %.2f +/- %.2f Volts, N = %d\"%(I,Iunc,N)"
     ],
     "language": "python",
     "metadata": {},
     "outputs": [
      {
       "output_type": "stream",
       "stream": "stdout",
       "text": [
        "Potential = 14062.21 +/- 1148.66 Volts, N = 10\n",
        "Potential = 12660.73 +/- 283.57 Volts, N = 100\n",
        "Potential = 13010.15 +/- 91.72 Volts, N = 1000\n",
        "Potential = 13029.64 +/- 29.43 Volts, N = 10000\n",
        "Potential = 13037.98 +/- 9.38 Volts, N = 100000\n",
        "Potential = 13029.00 +/- 2.97 Volts, N = 1000000"
       ]
      },
      {
       "output_type": "stream",
       "stream": "stdout",
       "text": [
        "\n"
       ]
      }
     ],
     "prompt_number": 16
    },
    {
     "cell_type": "markdown",
     "metadata": {},
     "source": [
      "(b) Now use the same method to compute the electric potential, V, at point P(2,3), from a disk centered on the origin with radius, R=1.2 m, and charge density, \u03c3 = 2 nC/m2 .\n",
      "<img src=\"http://i.imgur.com/K24pPSX.png\" width=\"500\">\n",
      "The integral is\n",
      "\n",
      "V=\u222b2\u03c00\u222b1.20K\u03c3|r\u2212r0|rd\u03b8dr"
     ]
    },
    {
     "cell_type": "code",
     "collapsed": false,
     "input": [
      "K = 8.987551787997912e9 #(Nm^2/C^2)\n",
      "sigma = 2 * 10**-9 # C/m^2\n",
      "P = (2,3)\n",
      "Px,Py = P\n",
      "r0 = np.sqrt(Px**2 + Py**2)\n",
      "\n",
      "func2 = lambda r,theta : (K * sigma / abs(r-r0)) * r\n",
      "\n",
      "rmin = 0; rmax = 1.2\n",
      "thmin = 0; thmax = 2*pi\n",
      "\n",
      "N = 1000000\n",
      "\n",
      "samples_r = rmin + (rmax-rmin)*np.random.random_sample(N)\n",
      "samples_th = thmin + (thmax-thmin)*np.random.random_sample(N)\n",
      "\n",
      "I = func2(samples_r,samples_th).mean()*(rmax-rmin)*(thmax-thmin)\n",
      "\n",
      "print \"Electric Potential at point P(%i,%i) = %.2f Volts\" % (Px,Py,I)"
     ],
     "language": "python",
     "metadata": {},
     "outputs": [
      {
       "output_type": "stream",
       "stream": "stdout",
       "text": [
        "Electric Potential at point P(2,3) = 29.28 Volts\n"
       ]
      }
     ],
     "prompt_number": 21
    },
    {
     "cell_type": "heading",
     "level": 3,
     "metadata": {},
     "source": [
      "Question 2"
     ]
    },
    {
     "cell_type": "markdown",
     "metadata": {},
     "source": [
      "Use the sample mean method to compute the volume of a sphere with radius 1 using spherical coordinates:\n",
      "\n",
      "V=\u222b10\u222b\u03c00\u222b2\u03c00r2sin(\u03b8)drd\u03b8d\u03d5\n",
      "\n",
      "for N=(10^1,10^2,10^3,10^4,10^5,10^6). Report the value and statistical uncertainty for each sample size. How does the result depend on N?"
     ]
    },
    {
     "cell_type": "code",
     "collapsed": false,
     "input": [
      "rmin = 0.; rmax = 1.0\n",
      "thmin = 0.; thmax = pi\n",
      "phimin = 0.; phimax = 2.*pi\n",
      "\n",
      "func3 = lambda r,theta,phi: r**2 * np.sin(theta)\n",
      "\n",
      "for N in [10**1,10**2,10**3,10**4,10**5,10**6]:\n",
      "    samples_r = rmin + (rmax-rmin)*np.random.random_sample(N)\n",
      "    samples_th = thmin + (thmax-thmin)*np.random.random_sample(N)\n",
      "    samples_phi = phimin + (phimax-phimin)*np.random.random_sample(N)\n",
      "\n",
      "    I = func3(samples_r,samples_th,samples_phi).mean()*(rmax-rmin)*(thmax-thmin)*(phimax-phimin)\n",
      "\n",
      "    Iunc = (rmax-rmin)*(thmax-thmin)*(phimax-phimin)\\\n",
      "        *np.sqrt(((func3(samples_r,samples_th,samples_phi)**2).mean()\\\n",
      "                  -(func3(samples_r,samples_th,samples_phi).mean())**2)/N )\n",
      "\n",
      "    print \"Volume = %.3f +/- %.4f, N = %d\"%(I,Iunc,N)"
     ],
     "language": "python",
     "metadata": {},
     "outputs": [
      {
       "output_type": "stream",
       "stream": "stdout",
       "text": [
        "Volume = 2.878 +/- 0.9141, N = 10\n",
        "Volume = 4.237 +/- 0.4599, N = 100\n",
        "Volume = 4.317 +/- 0.1496, N = 1000\n",
        "Volume = 4.198 +/- 0.0460, N = 10000\n",
        "Volume = 4.189 +/- 0.0147, N = 100000\n",
        "Volume = 4.180 +/- 0.0046, N = 1000000"
       ]
      },
      {
       "output_type": "stream",
       "stream": "stdout",
       "text": [
        "\n"
       ]
      }
     ],
     "prompt_number": 23
    },
    {
     "cell_type": "heading",
     "level": 3,
     "metadata": {},
     "source": [
      "Question 3"
     ]
    },
    {
     "cell_type": "markdown",
     "metadata": {},
     "source": [
      "(a) Use the hit or miss Monte Carlo method to estimate the integral of f(x)=41\u2212x2\u203e\u203e\u203e\u203e\u203e\u203e\u203e\u221a in the interval 0\u2264x\u22641 as a function of N, the number of samples. Let N range from 101 to 106 and use at least 100 different values for N.\n",
      "\n",
      "(np.logspace might be useful here to get evenly spaced values for N.)"
     ]
    },
    {
     "cell_type": "code",
     "collapsed": false,
     "input": [
      "N = np.logspace(1,6,num=100)\n",
      "\n",
      "xmin=0; xmax=1\n",
      "\n",
      "f = lambda x: 4 * np.sqrt(1-x**2)\n",
      "x = np.arange(xmin,xmax+0.001,0.001)\n",
      "\n",
      "ymax = f(x).max()*1.05\n",
      "ymin = 0.\n",
      "\n",
      "I = np.zeros(N.size)\n",
      "i = 0\n",
      "\n",
      "for n in N:\n",
      "    samples_x = xmin + (xmax-xmin)*np.random.random_sample(n);\n",
      "    samples_y = ymin + (ymax-ymin)*np.random.random_sample(n);\n",
      "\n",
      "    newmask = (samples_y < f(samples_x))\n",
      "    I[i] = (xmax-xmin)*(ymax-ymin)*newmask.sum()/newmask.size\n",
      "    i += 1\n",
      "\n",
      "I"
     ],
     "language": "python",
     "metadata": {},
     "outputs": [
      {
       "metadata": {},
       "output_type": "pyout",
       "prompt_number": 71,
       "text": [
        "array([ 2.52      ,  3.81818182,  2.8       ,  3.        ,  2.8       ,\n",
        "        3.21176471,  3.57      ,  2.67272727,  3.024     ,  3.        ,\n",
        "        3.2516129 ,  3.        ,  3.255     ,  3.26666667,  3.024     ,\n",
        "        2.8       ,  2.8875    ,  3.15      ,  3.16296296,  3.        ,\n",
        "        3.12941176,  3.13157895,  3.15813953,  3.1862069 ,  3.16296296,\n",
        "        3.12131148,  3.09365854,  3.18181818,  3.        ,  3.16082474,\n",
        "        3.27522936,  3.35313351,  3.22372881,  3.16810345,  3.22456814,\n",
        "        3.22358974,  3.03652968,  3.19404601,  3.2739759 ,  3.26716738,\n",
        "        3.13295129,  3.11071429,  3.10946253,  3.11037736,  3.07697842,\n",
        "        3.12589429,  3.09211027,  3.10025381,  3.1436747 ,  3.07502514,\n",
        "        3.11709937,  3.1466525 ,  3.148262  ,  3.13717895,  3.14685157,\n",
        "        3.18118118,  3.17713098,  3.15222105,  3.19263269,  3.14966998,\n",
        "        3.14392837,  3.1350934 ,  3.12873614,  3.12892953,  3.14120541,\n",
        "        3.11994369,  3.13869291,  3.12730879,  3.11836675,  3.13494007,\n",
        "        3.1436334 ,  3.14485014,  3.13251092,  3.14537902,  3.12643257,\n",
        "        3.15210483,  3.13851377,  3.13315682,  3.13713064,  3.13856499,\n",
        "        3.15169341,  3.13930275,  3.14842297,  3.14726645,  3.14577001,\n",
        "        3.13951626,  3.14223379,  3.14356962,  3.13903793,  3.13919334,\n",
        "        3.14482953,  3.13715785,  3.14070536,  3.13917726,  3.1428276 ,\n",
        "        3.14364177,  3.1397304 ,  3.14160776,  3.13968064,  3.1407474 ])"
       ]
      }
     ],
     "prompt_number": 71
    },
    {
     "cell_type": "markdown",
     "metadata": {},
     "source": [
      "(b) Calculate the percent error for the N values from part (a) using the exact result \u03c0. Make a log-log plot of the error as a function of N.\n",
      "What is the approximate functional dependence of the error on N for large N, for example N\u2265104?"
     ]
    },
    {
     "cell_type": "code",
     "collapsed": false,
     "input": [
      "Iexact = np.array([np.pi]*N.size)\n",
      "\n",
      "Ierr = 100*np.abs(Iexact-I)/Iexact\n",
      "\n",
      "plt.loglog(N,Ierr)\n",
      "plt.xlabel('N',fontsize=16)\n",
      "plt.ylabel('% error',fontsize=16)\n",
      "plt.show()"
     ],
     "language": "python",
     "metadata": {},
     "outputs": [
      {
       "metadata": {},
       "output_type": "display_data",
       "png": "[encoded data removed]",
       "text": [
        "<matplotlib.figure.Figure at 0x106062150>"
       ]
      }
     ],
     "prompt_number": 45
    },
    {
     "cell_type": "markdown",
     "metadata": {},
     "source": [
      "(c) Estimate the same integral using the sample mean method and compute the statistical uncertainty and error as a function of the number of samples N for N\u2265104. Use at least 100 different values for N.\n",
      "Make a log-log plot of both the statistical uncertainty and the error as a function of N.\n",
      "How many samples are needed to determine the result to two decimal places? What is the approximate functional dependence of the error on N for large N?"
     ]
    },
    {
     "cell_type": "code",
     "collapsed": false,
     "input": [
      "N = np.logspace(4,7,num=100)\n",
      "\n",
      "I = np.zeros(N.size)\n",
      "Iunc = np.zeros(N.size)\n",
      "i = 0\n",
      "\n",
      "for n in N:\n",
      "    samples_x = xmin + (xmax-xmin)*np.random.random_sample(n);\n",
      "\n",
      "    approx = f(samples_x)\n",
      "    I[i] = approx.mean()*(xmax-xmin)\n",
      "    Iunc[i] = (xmax-xmin)*np.sqrt( ((approx**2).mean()-(approx.mean())**2)/n )\n",
      "    i += 1\n",
      "\n",
      "Ierr = 100*np.abs(Iexact-I)/Iexact\n",
      "\n",
      "tdpN = N[np.where(Iunc < 10**-3)[0][0]]\n",
      "\n",
      "plt.figure(1)\n",
      "plt.loglog(N,Ierr)\n",
      "plt.xlabel('N',fontsize=16)\n",
      "plt.ylabel('% error',fontsize=16)\n",
      "\n",
      "plt.figure(2)\n",
      "plt.loglog(N,Iunc)\n",
      "plt.xlabel('N',fontsize=16)\n",
      "plt.ylabel('Statistical Uncertainty',fontsize=16)\n",
      "\n",
      "plt.show()\n",
      "\n",
      "print \"%i samples needed to determine the result to two decimal places (uncertainty < 10^-3)\" % tdpN"
     ],
     "language": "python",
     "metadata": {},
     "outputs": [
      {
       "metadata": {},
       "output_type": "display_data",
       "png": "[encoded data removed]",
       "text": [
        "<matplotlib.figure.Figure at 0x1072940d0>"
       ]
      },
      {
       "metadata": {},
       "output_type": "display_data",
       "png": "[encoded data removed]",
       "text": [
        "<matplotlib.figure.Figure at 0x107294890>"
       ]
      },
      {
       "output_type": "stream",
       "stream": "stdout",
       "text": [
        "811130 samples needed to determine the result to two decimal places (uncertainty < 10^-3)\n"
       ]
      }
     ],
     "prompt_number": 119
    },
    {
     "cell_type": "code",
     "collapsed": false,
     "input": [],
     "language": "python",
     "metadata": {},
     "outputs": []
    },
    {
     "cell_type": "code",
     "collapsed": false,
     "input": [],
     "language": "python",
     "metadata": {},
     "outputs": []
    }
   ],
   "metadata": {}
  }
 ]
}