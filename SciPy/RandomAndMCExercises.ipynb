{
 "metadata": {
  "name": "",
  "signature": "sha256:3d54f49241290eb821c8c5799740a70c6794058a6aa85b0cb36a92d46a0869a6"
 },
 "nbformat": 3,
 "nbformat_minor": 0,
 "worksheets": [
  {
   "cells": [
    {
     "cell_type": "heading",
     "level": 1,
     "metadata": {},
     "source": [
      "Random Numbers, Monte Carlo Sampling and Simulation Exercises"
     ]
    },
    {
     "cell_type": "code",
     "collapsed": false,
     "input": [
      "%pylab inline\n",
      "import numpy as np\n",
      "import matplotlib.pyplot as plt"
     ],
     "language": "python",
     "metadata": {},
     "outputs": [
      {
       "output_type": "stream",
       "stream": "stdout",
       "text": [
        "Populating the interactive namespace from numpy and matplotlib\n"
       ]
      }
     ],
     "prompt_number": 1
    },
    {
     "cell_type": "heading",
     "level": 3,
     "metadata": {},
     "source": [
      "Question 1"
     ]
    },
    {
     "cell_type": "markdown",
     "metadata": {},
     "source": [
      "The Weibull distribution, with parameters \u03b1>0 and \u03b2>0 is described by the density function\n",
      "\n",
      "$$\n",
      "f(x) = \\left\\{\n",
      "  \\begin{array}{lr}\n",
      "    \\alpha\\beta^{-\\alpha}x^{\\alpha - 1}e^{-(x/\\beta)^{\\alpha}} & x \\geq 0 \\\\\n",
      "    0                                                          & \\text{otherwise}\n",
      "  \\end{array}\n",
      "\\right.\n",
      "$$\n",
      "\n",
      "(a) Solve for the CDF of the Weibull distribution analytically, using\n",
      "\n",
      "$$\n",
      "F(x) = \\int^{-\\infty}_{x} f(t) dt\n",
      "$$"
     ]
    },
    {
     "cell_type": "markdown",
     "metadata": {},
     "source": [
      "$$\n",
      "F(x) = \\int^{-\\infty}_{x} f(t) dt = \\left\\{\n",
      "  \\begin{array}{lr}\n",
      "    0                      & x < 0 \\\\\n",
      "    -e^{(x/\\beta)^{\\alpha}}  & x \\geq 0\n",
      "  \\end{array}\n",
      "\\right.\n",
      "$$"
     ]
    },
    {
     "cell_type": "markdown",
     "metadata": {},
     "source": [
      "(b) Find the inverse of the CDF F\u22121(x) analytically."
     ]
    },
    {
     "cell_type": "markdown",
     "metadata": {},
     "source": [
      "$$\n",
      "F^{-1}(x) = \\beta(\\ln(-x))^{1/\\alpha}\n",
      "$$"
     ]
    },
    {
     "cell_type": "markdown",
     "metadata": {},
     "source": [
      "(c) Write a program to generate 10,000 samples from the Weibull distribution and plot the true distribution, the CDF and the sampled distribution as a histogram, all on the same graph. Let \u03b1 = 1.5, \u03b2 = 6.\n",
      "\n",
      "Note: Do not use the built-in Weibull function from numpy.random."
     ]
    },
    {
     "cell_type": "code",
     "collapsed": false,
     "input": [],
     "language": "python",
     "metadata": {},
     "outputs": []
    }
   ],
   "metadata": {}
  }
 ]
}