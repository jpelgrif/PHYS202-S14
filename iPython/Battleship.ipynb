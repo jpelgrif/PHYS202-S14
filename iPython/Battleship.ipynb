{
 "metadata": {
  "name": ""
 },
 "nbformat": 3,
 "nbformat_minor": 0,
 "worksheets": [
  {
   "cells": [
    {
     "cell_type": "heading",
     "level": 1,
     "metadata": {},
     "source": [
      "Battleship!"
     ]
    },
    {
     "cell_type": "code",
     "collapsed": false,
     "input": [
      "from random import randint\n",
      "from ipythonblocks import BlockGrid\n",
      "import sys\n",
      "\n",
      "h = 12\n",
      "w = 12\n",
      "turns = 4\n",
      "##ship_length = 3\n",
      "\n",
      "lightblue = (178, 255, 255)\n",
      "yellow = (255,255,0)\n",
      "red = (255,0,0)\n",
      "black = (0,0,0)\n",
      "\n",
      "board = BlockGrid(h, w, fill=lightblue)\n",
      "\n",
      "print \"Let's play Battleship!\"\n",
      "\n",
      "ship = []\n",
      "ship_row = randint(0, h)\n",
      "ship_col = randint(0, w)\n",
      "    \n",
      "ship.append((ship_row,ship_col))\n",
      "\n",
      "ship_row2,ship_row3 = ship_row,ship_row\n",
      "ship_col2,ship_col3 = ship_col,ship_col\n",
      "\n",
      "vert_horiz = randint(0,1)\n",
      "if vert_horiz == 0:\n",
      "    if ship_row < h-3:\n",
      "        ship_row2 = ship_row+1\n",
      "        ship_row3 = ship_row+2\n",
      "    else:\n",
      "        ship_row2 = ship_row-1\n",
      "        ship_row3 = ship_row-2\n",
      "else:\n",
      "    if ship_col < h-3:\n",
      "        ship_col2 = ship_col+1\n",
      "        ship_col3 = ship_col+2\n",
      "    else:\n",
      "        ship_col2 = ship_col-1\n",
      "        ship_col3 = ship_col-2\n",
      "\n",
      "ship.extend([(ship_row2,ship_col2),(ship_row3,ship_col3)])\n",
      "\n",
      "blocks_hit = 0\n",
      "board.show()\n",
      "for turn in range(turns):\n",
      "    print \"Turn\", turn + 1, \"\\n\"\n",
      "    sys.stdout.flush()\n",
      "    \n",
      "    goodguess = False\n",
      "    while goodguess == False:\n",
      "        try:\n",
      "            guess_row = int(raw_input(\"Guess Row:\"))-1\n",
      "            guess_col = int(raw_input(\"Guess Col:\"))-1\n",
      "        \n",
      "            if (guess_row < 0 or guess_row > h-1) or (guess_col < 0 or guess_col > w-1):\n",
      "                print \"\\nOops, that's not even in the ocean.\\n\"\n",
      "            elif(board[guess_row,guess_col].red == 255):\n",
      "                print \"\\nYou guessed that one already.\\n\"\n",
      "            else:\n",
      "                goodguess = True\n",
      "        except ValueError as err:\n",
      "            print err\n",
      "            print \"Incompatible value, you must enter a number\\n\"\n",
      "            \n",
      "    \n",
      "    if (guess_row,guess_col) in ship:\n",
      "        board[guess_row,guess_col] = red\n",
      "        blocks_hit += 1\n",
      "        print \"\\nYou hit my battleship!\"\n",
      "        if blocks_hit == 3:\n",
      "            board.show()\n",
      "            print \"\\nCongratulations! You sunk my battleship!\"\n",
      "            break\n",
      "    else:\n",
      "        print \"\\nYou missed my battleship!\"\n",
      "        board[guess_row,guess_col] = yellow\n",
      "    \n",
      "    if turn == turns-1:\n",
      "            for coord in ship:\n",
      "                x,y = coord\n",
      "                if board[x,y].red != 255:\n",
      "                    board[x,y] = black\n",
      "            print \"\\nGame Over\"\n",
      "            print \"\\nShip Shown In Black:\"\n",
      "    board.show()"
     ],
     "language": "python",
     "metadata": {},
     "outputs": [
      {
       "output_type": "stream",
       "stream": "stdout",
       "text": [
        "Let's play Battleship!\n"
       ]
      },
      {
       "html": [
        "<style type=\"text/css\">table.blockgrid {border: none;} .blockgrid tr {border: none;} .blockgrid td {padding: 0px;} #blocks4293aaff-2c72-4bdc-96c9-20509e8e040f td {border: 1px solid white;}</style><table id=\"blocks4293aaff-2c72-4bdc-96c9-20509e8e040f\" class=\"blockgrid\"><tbody><tr><td title=\"Index: [0, 0]&#10;Color: (178, 255, 255)\" style=\"width: 20px; height: 20px;background-color: rgb(178, 255, 255);\"></td><td title=\"Index: [0, 1]&#10;Color: (178, 255, 255)\" style=\"width: 20px; height: 20px;background-color: rgb(178, 255, 255);\"></td><td title=\"Index: [0, 2]&#10;Color: (178, 255, 255)\" style=\"width: 20px; height: 20px;background-color: rgb(178, 255, 255);\"></td><td title=\"Index: [0, 3]&#10;Color: (178, 255, 255)\" style=\"width: 20px; height: 20px;background-color: rgb(178, 255, 255);\"></td><td title=\"Index: [0, 4]&#10;Color: (178, 255, 255)\" style=\"width: 20px; height: 20px;background-color: rgb(178, 255, 255);\"></td><td title=\"Index: [0, 5]&#10;Color: (178, 255, 255)\" style=\"width: 20px; height: 20px;background-color: rgb(178, 255, 255);\"></td><td title=\"Index: [0, 6]&#10;Color: (178, 255, 255)\" style=\"width: 20px; height: 20px;background-color: rgb(178, 255, 255);\"></td><td title=\"Index: [0, 7]&#10;Color: (178, 255, 255)\" style=\"width: 20px; height: 20px;background-color: rgb(178, 255, 255);\"></td><td title=\"Index: [0, 8]&#10;Color: (178, 255, 255)\" style=\"width: 20px; height: 20px;background-color: rgb(178, 255, 255);\"></td><td title=\"Index: [0, 9]&#10;Color: (178, 255, 255)\" style=\"width: 20px; height: 20px;background-color: rgb(178, 255, 255);\"></td><td title=\"Index: [0, 10]&#10;Color: (178, 255, 255)\" style=\"width: 20px; height: 20px;background-color: rgb(178, 255, 255);\"></td><td title=\"Index: [0, 11]&#10;Color: (178, 255, 255)\" style=\"width: 20px; height: 20px;background-color: rgb(178, 255, 255);\"></td></tr><tr><td title=\"Index: [1, 0]&#10;Color: (178, 255, 255)\" style=\"width: 20px; height: 20px;background-color: rgb(178, 255, 255);\"></td><td title=\"Index: [1, 1]&#10;Color: (178, 255, 255)\" style=\"width: 20px; height: 20px;background-color: rgb(178, 255, 255);\"></td><td title=\"Index: [1, 2]&#10;Color: (178, 255, 255)\" style=\"width: 20px; height: 20px;background-color: rgb(178, 255, 255);\"></td><td title=\"Index: [1, 3]&#10;Color: (178, 255, 255)\" style=\"width: 20px; height: 20px;background-color: rgb(178, 255, 255);\"></td><td title=\"Index: [1, 4]&#10;Color: (178, 255, 255)\" style=\"width: 20px; height: 20px;background-color: rgb(178, 255, 255);\"></td><td title=\"Index: [1, 5]&#10;Color: (178, 255, 255)\" style=\"width: 20px; height: 20px;background-color: rgb(178, 255, 255);\"></td><td title=\"Index: [1, 6]&#10;Color: (178, 255, 255)\" style=\"width: 20px; height: 20px;background-color: rgb(178, 255, 255);\"></td><td title=\"Index: [1, 7]&#10;Color: (178, 255, 255)\" style=\"width: 20px; height: 20px;background-color: rgb(178, 255, 255);\"></td><td title=\"Index: [1, 8]&#10;Color: (178, 255, 255)\" style=\"width: 20px; height: 20px;background-color: rgb(178, 255, 255);\"></td><td title=\"Index: [1, 9]&#10;Color: (178, 255, 255)\" style=\"width: 20px; height: 20px;background-color: rgb(178, 255, 255);\"></td><td title=\"Index: [1, 10]&#10;Color: (178, 255, 255)\" style=\"width: 20px; height: 20px;background-color: rgb(178, 255, 255);\"></td><td title=\"Index: [1, 11]&#10;Color: (178, 255, 255)\" style=\"width: 20px; height: 20px;background-color: rgb(178, 255, 255);\"></td></tr><tr><td title=\"Index: [2, 0]&#10;Color: (178, 255, 255)\" style=\"width: 20px; height: 20px;background-color: rgb(178, 255, 255);\"></td><td title=\"Index: [2, 1]&#10;Color: (178, 255, 255)\" style=\"width: 20px; height: 20px;background-color: rgb(178, 255, 255);\"></td><td title=\"Index: [2, 2]&#10;Color: (178, 255, 255)\" style=\"width: 20px; height: 20px;background-color: rgb(178, 255, 255);\"></td><td title=\"Index: [2, 3]&#10;Color: (178, 255, 255)\" style=\"width: 20px; height: 20px;background-color: rgb(178, 255, 255);\"></td><td title=\"Index: [2, 4]&#10;Color: (178, 255, 255)\" style=\"width: 20px; height: 20px;background-color: rgb(178, 255, 255);\"></td><td title=\"Index: [2, 5]&#10;Color: (178, 255, 255)\" style=\"width: 20px; height: 20px;background-color: rgb(178, 255, 255);\"></td><td title=\"Index: [2, 6]&#10;Color: (178, 255, 255)\" style=\"width: 20px; height: 20px;background-color: rgb(178, 255, 255);\"></td><td title=\"Index: [2, 7]&#10;Color: (178, 255, 255)\" style=\"width: 20px; height: 20px;background-color: rgb(178, 255, 255);\"></td><td title=\"Index: [2, 8]&#10;Color: (178, 255, 255)\" style=\"width: 20px; height: 20px;background-color: rgb(178, 255, 255);\"></td><td title=\"Index: [2, 9]&#10;Color: (178, 255, 255)\" style=\"width: 20px; height: 20px;background-color: rgb(178, 255, 255);\"></td><td title=\"Index: [2, 10]&#10;Color: (178, 255, 255)\" style=\"width: 20px; height: 20px;background-color: rgb(178, 255, 255);\"></td><td title=\"Index: [2, 11]&#10;Color: (178, 255, 255)\" style=\"width: 20px; height: 20px;background-color: rgb(178, 255, 255);\"></td></tr><tr><td title=\"Index: [3, 0]&#10;Color: (178, 255, 255)\" style=\"width: 20px; height: 20px;background-color: rgb(178, 255, 255);\"></td><td title=\"Index: [3, 1]&#10;Color: (178, 255, 255)\" style=\"width: 20px; height: 20px;background-color: rgb(178, 255, 255);\"></td><td title=\"Index: [3, 2]&#10;Color: (178, 255, 255)\" style=\"width: 20px; height: 20px;background-color: rgb(178, 255, 255);\"></td><td title=\"Index: [3, 3]&#10;Color: (178, 255, 255)\" style=\"width: 20px; height: 20px;background-color: rgb(178, 255, 255);\"></td><td title=\"Index: [3, 4]&#10;Color: (178, 255, 255)\" style=\"width: 20px; height: 20px;background-color: rgb(178, 255, 255);\"></td><td title=\"Index: [3, 5]&#10;Color: (178, 255, 255)\" style=\"width: 20px; height: 20px;background-color: rgb(178, 255, 255);\"></td><td title=\"Index: [3, 6]&#10;Color: (178, 255, 255)\" style=\"width: 20px; height: 20px;background-color: rgb(178, 255, 255);\"></td><td title=\"Index: [3, 7]&#10;Color: (178, 255, 255)\" style=\"width: 20px; height: 20px;background-color: rgb(178, 255, 255);\"></td><td title=\"Index: [3, 8]&#10;Color: (178, 255, 255)\" style=\"width: 20px; height: 20px;background-color: rgb(178, 255, 255);\"></td><td title=\"Index: [3, 9]&#10;Color: (178, 255, 255)\" style=\"width: 20px; height: 20px;background-color: rgb(178, 255, 255);\"></td><td title=\"Index: [3, 10]&#10;Color: (178, 255, 255)\" style=\"width: 20px; height: 20px;background-color: rgb(178, 255, 255);\"></td><td title=\"Index: [3, 11]&#10;Color: (178, 255, 255)\" style=\"width: 20px; height: 20px;background-color: rgb(178, 255, 255);\"></td></tr><tr><td title=\"Index: [4, 0]&#10;Color: (178, 255, 255)\" style=\"width: 20px; height: 20px;background-color: rgb(178, 255, 255);\"></td><td title=\"Index: [4, 1]&#10;Color: (178, 255, 255)\" style=\"width: 20px; height: 20px;background-color: rgb(178, 255, 255);\"></td><td title=\"Index: [4, 2]&#10;Color: (178, 255, 255)\" style=\"width: 20px; height: 20px;background-color: rgb(178, 255, 255);\"></td><td title=\"Index: [4, 3]&#10;Color: (178, 255, 255)\" style=\"width: 20px; height: 20px;background-color: rgb(178, 255, 255);\"></td><td title=\"Index: [4, 4]&#10;Color: (178, 255, 255)\" style=\"width: 20px; height: 20px;background-color: rgb(178, 255, 255);\"></td><td title=\"Index: [4, 5]&#10;Color: (178, 255, 255)\" style=\"width: 20px; height: 20px;background-color: rgb(178, 255, 255);\"></td><td title=\"Index: [4, 6]&#10;Color: (178, 255, 255)\" style=\"width: 20px; height: 20px;background-color: rgb(178, 255, 255);\"></td><td title=\"Index: [4, 7]&#10;Color: (178, 255, 255)\" style=\"width: 20px; height: 20px;background-color: rgb(178, 255, 255);\"></td><td title=\"Index: [4, 8]&#10;Color: (178, 255, 255)\" style=\"width: 20px; height: 20px;background-color: rgb(178, 255, 255);\"></td><td title=\"Index: [4, 9]&#10;Color: (178, 255, 255)\" style=\"width: 20px; height: 20px;background-color: rgb(178, 255, 255);\"></td><td title=\"Index: [4, 10]&#10;Color: (178, 255, 255)\" style=\"width: 20px; height: 20px;background-color: rgb(178, 255, 255);\"></td><td title=\"Index: [4, 11]&#10;Color: (178, 255, 255)\" style=\"width: 20px; height: 20px;background-color: rgb(178, 255, 255);\"></td></tr><tr><td title=\"Index: [5, 0]&#10;Color: (178, 255, 255)\" style=\"width: 20px; height: 20px;background-color: rgb(178, 255, 255);\"></td><td title=\"Index: [5, 1]&#10;Color: (178, 255, 255)\" style=\"width: 20px; height: 20px;background-color: rgb(178, 255, 255);\"></td><td title=\"Index: [5, 2]&#10;Color: (178, 255, 255)\" style=\"width: 20px; height: 20px;background-color: rgb(178, 255, 255);\"></td><td title=\"Index: [5, 3]&#10;Color: (178, 255, 255)\" style=\"width: 20px; height: 20px;background-color: rgb(178, 255, 255);\"></td><td title=\"Index: [5, 4]&#10;Color: (178, 255, 255)\" style=\"width: 20px; height: 20px;background-color: rgb(178, 255, 255);\"></td><td title=\"Index: [5, 5]&#10;Color: (178, 255, 255)\" style=\"width: 20px; height: 20px;background-color: rgb(178, 255, 255);\"></td><td title=\"Index: [5, 6]&#10;Color: (178, 255, 255)\" style=\"width: 20px; height: 20px;background-color: rgb(178, 255, 255);\"></td><td title=\"Index: [5, 7]&#10;Color: (178, 255, 255)\" style=\"width: 20px; height: 20px;background-color: rgb(178, 255, 255);\"></td><td title=\"Index: [5, 8]&#10;Color: (178, 255, 255)\" style=\"width: 20px; height: 20px;background-color: rgb(178, 255, 255);\"></td><td title=\"Index: [5, 9]&#10;Color: (178, 255, 255)\" style=\"width: 20px; height: 20px;background-color: rgb(178, 255, 255);\"></td><td title=\"Index: [5, 10]&#10;Color: (178, 255, 255)\" style=\"width: 20px; height: 20px;background-color: rgb(178, 255, 255);\"></td><td title=\"Index: [5, 11]&#10;Color: (178, 255, 255)\" style=\"width: 20px; height: 20px;background-color: rgb(178, 255, 255);\"></td></tr><tr><td title=\"Index: [6, 0]&#10;Color: (178, 255, 255)\" style=\"width: 20px; height: 20px;background-color: rgb(178, 255, 255);\"></td><td title=\"Index: [6, 1]&#10;Color: (178, 255, 255)\" style=\"width: 20px; height: 20px;background-color: rgb(178, 255, 255);\"></td><td title=\"Index: [6, 2]&#10;Color: (178, 255, 255)\" style=\"width: 20px; height: 20px;background-color: rgb(178, 255, 255);\"></td><td title=\"Index: [6, 3]&#10;Color: (178, 255, 255)\" style=\"width: 20px; height: 20px;background-color: rgb(178, 255, 255);\"></td><td title=\"Index: [6, 4]&#10;Color: (178, 255, 255)\" style=\"width: 20px; height: 20px;background-color: rgb(178, 255, 255);\"></td><td title=\"Index: [6, 5]&#10;Color: (178, 255, 255)\" style=\"width: 20px; height: 20px;background-color: rgb(178, 255, 255);\"></td><td title=\"Index: [6, 6]&#10;Color: (178, 255, 255)\" style=\"width: 20px; height: 20px;background-color: rgb(178, 255, 255);\"></td><td title=\"Index: [6, 7]&#10;Color: (178, 255, 255)\" style=\"width: 20px; height: 20px;background-color: rgb(178, 255, 255);\"></td><td title=\"Index: [6, 8]&#10;Color: (178, 255, 255)\" style=\"width: 20px; height: 20px;background-color: rgb(178, 255, 255);\"></td><td title=\"Index: [6, 9]&#10;Color: (178, 255, 255)\" style=\"width: 20px; height: 20px;background-color: rgb(178, 255, 255);\"></td><td title=\"Index: [6, 10]&#10;Color: (178, 255, 255)\" style=\"width: 20px; height: 20px;background-color: rgb(178, 255, 255);\"></td><td title=\"Index: [6, 11]&#10;Color: (178, 255, 255)\" style=\"width: 20px; height: 20px;background-color: rgb(178, 255, 255);\"></td></tr><tr><td title=\"Index: [7, 0]&#10;Color: (178, 255, 255)\" style=\"width: 20px; height: 20px;background-color: rgb(178, 255, 255);\"></td><td title=\"Index: [7, 1]&#10;Color: (178, 255, 255)\" style=\"width: 20px; height: 20px;background-color: rgb(178, 255, 255);\"></td><td title=\"Index: [7, 2]&#10;Color: (178, 255, 255)\" style=\"width: 20px; height: 20px;background-color: rgb(178, 255, 255);\"></td><td title=\"Index: [7, 3]&#10;Color: (178, 255, 255)\" style=\"width: 20px; height: 20px;background-color: rgb(178, 255, 255);\"></td><td title=\"Index: [7, 4]&#10;Color: (178, 255, 255)\" style=\"width: 20px; height: 20px;background-color: rgb(178, 255, 255);\"></td><td title=\"Index: [7, 5]&#10;Color: (178, 255, 255)\" style=\"width: 20px; height: 20px;background-color: rgb(178, 255, 255);\"></td><td title=\"Index: [7, 6]&#10;Color: (178, 255, 255)\" style=\"width: 20px; height: 20px;background-color: rgb(178, 255, 255);\"></td><td title=\"Index: [7, 7]&#10;Color: (178, 255, 255)\" style=\"width: 20px; height: 20px;background-color: rgb(178, 255, 255);\"></td><td title=\"Index: [7, 8]&#10;Color: (178, 255, 255)\" style=\"width: 20px; height: 20px;background-color: rgb(178, 255, 255);\"></td><td title=\"Index: [7, 9]&#10;Color: (178, 255, 255)\" style=\"width: 20px; height: 20px;background-color: rgb(178, 255, 255);\"></td><td title=\"Index: [7, 10]&#10;Color: (178, 255, 255)\" style=\"width: 20px; height: 20px;background-color: rgb(178, 255, 255);\"></td><td title=\"Index: [7, 11]&#10;Color: (178, 255, 255)\" style=\"width: 20px; height: 20px;background-color: rgb(178, 255, 255);\"></td></tr><tr><td title=\"Index: [8, 0]&#10;Color: (178, 255, 255)\" style=\"width: 20px; height: 20px;background-color: rgb(178, 255, 255);\"></td><td title=\"Index: [8, 1]&#10;Color: (178, 255, 255)\" style=\"width: 20px; height: 20px;background-color: rgb(178, 255, 255);\"></td><td title=\"Index: [8, 2]&#10;Color: (178, 255, 255)\" style=\"width: 20px; height: 20px;background-color: rgb(178, 255, 255);\"></td><td title=\"Index: [8, 3]&#10;Color: (178, 255, 255)\" style=\"width: 20px; height: 20px;background-color: rgb(178, 255, 255);\"></td><td title=\"Index: [8, 4]&#10;Color: (178, 255, 255)\" style=\"width: 20px; height: 20px;background-color: rgb(178, 255, 255);\"></td><td title=\"Index: [8, 5]&#10;Color: (178, 255, 255)\" style=\"width: 20px; height: 20px;background-color: rgb(178, 255, 255);\"></td><td title=\"Index: [8, 6]&#10;Color: (178, 255, 255)\" style=\"width: 20px; height: 20px;background-color: rgb(178, 255, 255);\"></td><td title=\"Index: [8, 7]&#10;Color: (178, 255, 255)\" style=\"width: 20px; height: 20px;background-color: rgb(178, 255, 255);\"></td><td title=\"Index: [8, 8]&#10;Color: (178, 255, 255)\" style=\"width: 20px; height: 20px;background-color: rgb(178, 255, 255);\"></td><td title=\"Index: [8, 9]&#10;Color: (178, 255, 255)\" style=\"width: 20px; height: 20px;background-color: rgb(178, 255, 255);\"></td><td title=\"Index: [8, 10]&#10;Color: (178, 255, 255)\" style=\"width: 20px; height: 20px;background-color: rgb(178, 255, 255);\"></td><td title=\"Index: [8, 11]&#10;Color: (178, 255, 255)\" style=\"width: 20px; height: 20px;background-color: rgb(178, 255, 255);\"></td></tr><tr><td title=\"Index: [9, 0]&#10;Color: (178, 255, 255)\" style=\"width: 20px; height: 20px;background-color: rgb(178, 255, 255);\"></td><td title=\"Index: [9, 1]&#10;Color: (178, 255, 255)\" style=\"width: 20px; height: 20px;background-color: rgb(178, 255, 255);\"></td><td title=\"Index: [9, 2]&#10;Color: (178, 255, 255)\" style=\"width: 20px; height: 20px;background-color: rgb(178, 255, 255);\"></td><td title=\"Index: [9, 3]&#10;Color: (178, 255, 255)\" style=\"width: 20px; height: 20px;background-color: rgb(178, 255, 255);\"></td><td title=\"Index: [9, 4]&#10;Color: (178, 255, 255)\" style=\"width: 20px; height: 20px;background-color: rgb(178, 255, 255);\"></td><td title=\"Index: [9, 5]&#10;Color: (178, 255, 255)\" style=\"width: 20px; height: 20px;background-color: rgb(178, 255, 255);\"></td><td title=\"Index: [9, 6]&#10;Color: (178, 255, 255)\" style=\"width: 20px; height: 20px;background-color: rgb(178, 255, 255);\"></td><td title=\"Index: [9, 7]&#10;Color: (178, 255, 255)\" style=\"width: 20px; height: 20px;background-color: rgb(178, 255, 255);\"></td><td title=\"Index: [9, 8]&#10;Color: (178, 255, 255)\" style=\"width: 20px; height: 20px;background-color: rgb(178, 255, 255);\"></td><td title=\"Index: [9, 9]&#10;Color: (178, 255, 255)\" style=\"width: 20px; height: 20px;background-color: rgb(178, 255, 255);\"></td><td title=\"Index: [9, 10]&#10;Color: (178, 255, 255)\" style=\"width: 20px; height: 20px;background-color: rgb(178, 255, 255);\"></td><td title=\"Index: [9, 11]&#10;Color: (178, 255, 255)\" style=\"width: 20px; height: 20px;background-color: rgb(178, 255, 255);\"></td></tr><tr><td title=\"Index: [10, 0]&#10;Color: (178, 255, 255)\" style=\"width: 20px; height: 20px;background-color: rgb(178, 255, 255);\"></td><td title=\"Index: [10, 1]&#10;Color: (178, 255, 255)\" style=\"width: 20px; height: 20px;background-color: rgb(178, 255, 255);\"></td><td title=\"Index: [10, 2]&#10;Color: (178, 255, 255)\" style=\"width: 20px; height: 20px;background-color: rgb(178, 255, 255);\"></td><td title=\"Index: [10, 3]&#10;Color: (178, 255, 255)\" style=\"width: 20px; height: 20px;background-color: rgb(178, 255, 255);\"></td><td title=\"Index: [10, 4]&#10;Color: (178, 255, 255)\" style=\"width: 20px; height: 20px;background-color: rgb(178, 255, 255);\"></td><td title=\"Index: [10, 5]&#10;Color: (178, 255, 255)\" style=\"width: 20px; height: 20px;background-color: rgb(178, 255, 255);\"></td><td title=\"Index: [10, 6]&#10;Color: (178, 255, 255)\" style=\"width: 20px; height: 20px;background-color: rgb(178, 255, 255);\"></td><td title=\"Index: [10, 7]&#10;Color: (178, 255, 255)\" style=\"width: 20px; height: 20px;background-color: rgb(178, 255, 255);\"></td><td title=\"Index: [10, 8]&#10;Color: (178, 255, 255)\" style=\"width: 20px; height: 20px;background-color: rgb(178, 255, 255);\"></td><td title=\"Index: [10, 9]&#10;Color: (178, 255, 255)\" style=\"width: 20px; height: 20px;background-color: rgb(178, 255, 255);\"></td><td title=\"Index: [10, 10]&#10;Color: (178, 255, 255)\" style=\"width: 20px; height: 20px;background-color: rgb(178, 255, 255);\"></td><td title=\"Index: [10, 11]&#10;Color: (178, 255, 255)\" style=\"width: 20px; height: 20px;background-color: rgb(178, 255, 255);\"></td></tr><tr><td title=\"Index: [11, 0]&#10;Color: (178, 255, 255)\" style=\"width: 20px; height: 20px;background-color: rgb(178, 255, 255);\"></td><td title=\"Index: [11, 1]&#10;Color: (178, 255, 255)\" style=\"width: 20px; height: 20px;background-color: rgb(178, 255, 255);\"></td><td title=\"Index: [11, 2]&#10;Color: (178, 255, 255)\" style=\"width: 20px; height: 20px;background-color: rgb(178, 255, 255);\"></td><td title=\"Index: [11, 3]&#10;Color: (178, 255, 255)\" style=\"width: 20px; height: 20px;background-color: rgb(178, 255, 255);\"></td><td title=\"Index: [11, 4]&#10;Color: (178, 255, 255)\" style=\"width: 20px; height: 20px;background-color: rgb(178, 255, 255);\"></td><td title=\"Index: [11, 5]&#10;Color: (178, 255, 255)\" style=\"width: 20px; height: 20px;background-color: rgb(178, 255, 255);\"></td><td title=\"Index: [11, 6]&#10;Color: (178, 255, 255)\" style=\"width: 20px; height: 20px;background-color: rgb(178, 255, 255);\"></td><td title=\"Index: [11, 7]&#10;Color: (178, 255, 255)\" style=\"width: 20px; height: 20px;background-color: rgb(178, 255, 255);\"></td><td title=\"Index: [11, 8]&#10;Color: (178, 255, 255)\" style=\"width: 20px; height: 20px;background-color: rgb(178, 255, 255);\"></td><td title=\"Index: [11, 9]&#10;Color: (178, 255, 255)\" style=\"width: 20px; height: 20px;background-color: rgb(178, 255, 255);\"></td><td title=\"Index: [11, 10]&#10;Color: (178, 255, 255)\" style=\"width: 20px; height: 20px;background-color: rgb(178, 255, 255);\"></td><td title=\"Index: [11, 11]&#10;Color: (178, 255, 255)\" style=\"width: 20px; height: 20px;background-color: rgb(178, 255, 255);\"></td></tr></tbody></table>"
       ],
       "metadata": {},
       "output_type": "display_data",
       "text": [
        "<IPython.core.display.HTML at 0x104dce0d0>"
       ]
      },
      {
       "output_type": "stream",
       "stream": "stdout",
       "text": [
        "Turn 1 \n",
        "\n"
       ]
      },
      {
       "name": "stdout",
       "output_type": "stream",
       "stream": "stdout",
       "text": [
        "Guess Row:why\n"
       ]
      },
      {
       "output_type": "stream",
       "stream": "stdout",
       "text": [
        "invalid literal for int() with base 10: 'why'\n",
        "Incompatible value, you must enter a number\n",
        "\n"
       ]
      }
     ],
     "prompt_number": "*"
    },
    {
     "cell_type": "code",
     "collapsed": false,
     "input": [],
     "language": "python",
     "metadata": {},
     "outputs": []
    }
   ],
   "metadata": {}
  }
 ]
}