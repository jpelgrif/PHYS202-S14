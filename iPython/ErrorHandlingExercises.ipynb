{
 "metadata": {
  "name": ""
 },
 "nbformat": 3,
 "nbformat_minor": 0,
 "worksheets": [
  {
   "cells": [
    {
     "cell_type": "heading",
     "level": 1,
     "metadata": {},
     "source": [
      "Error Handling Exercises"
     ]
    },
    {
     "cell_type": "markdown",
     "metadata": {},
     "source": [
      "1) Find a partner. Choose a driver and a navigator. The driver should copy their Battleship code to a cell in the driver's ErrorHandlingExercises notebook. The driver should explain to the navigator the basics of how their program works. Work together to add some error handling to the program. Include a markdown cell identifying the driver and navigator. When you are done, switch roles and let the navigator be the driver and vice versa. At the end you should both have a Battleship program that includes some error handling."
     ]
    },
    {
     "cell_type": "code",
     "collapsed": false,
     "input": [
      "from random import randint\n",
      "from ipythonblocks import BlockGrid\n",
      "import sys\n",
      "\n",
      "h = 12\n",
      "w = 12\n",
      "turns = 4\n",
      "##ship_length = 3\n",
      "\n",
      "assert h>0 and w>0, \"height and width must be greater than zero\"\n",
      "assert turns>0, \"turn count must be greater than zero\"\n",
      "\n",
      "lightblue = (178, 255, 255)\n",
      "yellow = (255,255,0)\n",
      "red = (255,0,0)\n",
      "black = (0,0,0)\n",
      "\n",
      "board = BlockGrid(h, w, fill=lightblue)\n",
      "\n",
      "print \"Let's play Battleship!\"\n",
      "\n",
      "ship = []\n",
      "ship_row = randint(0, h)\n",
      "ship_col = randint(0, w)\n",
      "    \n",
      "ship.append((ship_row,ship_col))\n",
      "\n",
      "ship_row2,ship_row3 = ship_row,ship_row\n",
      "ship_col2,ship_col3 = ship_col,ship_col\n",
      "\n",
      "vert_horiz = randint(0,1)\n",
      "if vert_horiz == 0:\n",
      "    if ship_row < h-3:\n",
      "        ship_row2 = ship_row+1\n",
      "        ship_row3 = ship_row+2\n",
      "    else:\n",
      "        ship_row2 = ship_row-1\n",
      "        ship_row3 = ship_row-2\n",
      "else:\n",
      "    if ship_col < w-3:\n",
      "        ship_col2 = ship_col+1\n",
      "        ship_col3 = ship_col+2\n",
      "    else:\n",
      "        ship_col2 = ship_col-1\n",
      "        ship_col3 = ship_col-2\n",
      "\n",
      "ship.extend([(ship_row2,ship_col2),(ship_row3,ship_col3)])\n",
      "\n",
      "blocks_hit = 0\n",
      "board.show()\n",
      "for turn in range(turns):\n",
      "    print \"Turn\", turn + 1, \"\\n\"\n",
      "    sys.stdout.flush()\n",
      "    \n",
      "    goodguess = False\n",
      "    while goodguess == False:\n",
      "        try:\n",
      "            guess_row = int(raw_input(\"Guess Row:\"))-1\n",
      "            guess_col = int(raw_input(\"Guess Col:\"))-1\n",
      "        \n",
      "            if (guess_row < 0 or guess_row > h-1) or (guess_col < 0 or guess_col > w-1):\n",
      "                print \"\\nOops, that's not even in the ocean.\\n\"\n",
      "            elif(board[guess_row,guess_col].red == 255):\n",
      "                print \"\\nYou guessed that one already.\\n\"\n",
      "            else:\n",
      "                goodguess = True\n",
      "        except TypeError as err:\n",
      "            print err\n",
      "            print \"Incompatible type, you must enter a number\"\n",
      "            \n",
      "    \n",
      "    if (guess_row,guess_col) in ship:\n",
      "        board[guess_row,guess_col] = red\n",
      "        blocks_hit += 1\n",
      "        print \"\\nYou hit my battleship!\"\n",
      "        if blocks_hit == 3:\n",
      "            board.show()\n",
      "            print \"\\nCongratulations! You sunk my battleship!\"\n",
      "            break\n",
      "    else:\n",
      "        print \"\\nYou missed my battleship!\"\n",
      "        board[guess_row,guess_col] = yellow\n",
      "    \n",
      "    if turn == turns-1:\n",
      "            for coord in ship:\n",
      "                x,y = coord\n",
      "                if board[x,y].red != 255:\n",
      "                    board[x,y] = black\n",
      "            print \"\\nGame Over\"\n",
      "            print \"\\nShip Shown In Black:\"\n",
      "    board.show()"
     ],
     "language": "python",
     "metadata": {},
     "outputs": []
    },
    {
     "cell_type": "markdown",
     "metadata": {},
     "source": [
      "2) Here is a function which takes a filename, opens the file, reads the result, closes the file, and returns the contents. It should look something like this:\n",
      "\n",
      "    def read_all_from_file(filename):\n",
      "        f = open(filename)\n",
      "        contents = f.read()\n",
      "        f.close()\n",
      "        return contents\n",
      "        \n",
      "Use runtime error handling concepts to improve this function, so that it does the following:\n",
      "<ul>\n",
      "<li>raises an informative custom error if the file doesn't exist</li>\n",
      "<li>uses <code>try</code>, <code>except</code>, <code>else</code>, and/or <code>finally</code> to safely return the file's contents &amp; close the file if necessary.</li>\n",
      "<li>add a keyword <code>safe</code> which defaults to <code>False</code>. If the function is called with <code>safe=True</code>, then return an empty string if the file doesn't exist.</li>\n",
      "</ul>"
     ]
    },
    {
     "cell_type": "code",
     "collapsed": false,
     "input": [
      "def read_all_from_file(filename, safe = False):\n",
      "    try:\n",
      "        f = open(filename)\n",
      "        contents = f.read()\n",
      "        return contents\n",
      "        f.close()\n",
      "    except IOError:\n",
      "        print \"File does not exist at: \", filename\n",
      "        if safe==True:\n",
      "            return \"\""
     ],
     "language": "python",
     "metadata": {},
     "outputs": [],
     "prompt_number": 6
    },
    {
     "cell_type": "code",
     "collapsed": false,
     "input": [
      "read_all_from_file('tmp.txt')"
     ],
     "language": "python",
     "metadata": {},
     "outputs": [
      {
       "metadata": {},
       "output_type": "pyout",
       "prompt_number": 7,
       "text": [
        "'this is the contents of the file'"
       ]
      }
     ],
     "prompt_number": 7
    },
    {
     "cell_type": "code",
     "collapsed": false,
     "input": [
      "read_all_from_file('file.which.does.not.exist')"
     ],
     "language": "python",
     "metadata": {},
     "outputs": [
      {
       "output_type": "stream",
       "stream": "stdout",
       "text": [
        "File does not exist at:  file.which.does.not.exist\n"
       ]
      }
     ],
     "prompt_number": 8
    },
    {
     "cell_type": "code",
     "collapsed": false,
     "input": [
      "read_all_from_file('file.which.does.not.exist', safe=True)"
     ],
     "language": "python",
     "metadata": {},
     "outputs": [
      {
       "output_type": "stream",
       "stream": "stdout",
       "text": [
        "File does not exist at:  file.which.does.not.exist\n"
       ]
      },
      {
       "metadata": {},
       "output_type": "pyout",
       "prompt_number": 10,
       "text": [
        "''"
       ]
      }
     ],
     "prompt_number": 10
    },
    {
     "cell_type": "code",
     "collapsed": false,
     "input": [],
     "language": "python",
     "metadata": {},
     "outputs": []
    }
   ],
   "metadata": {}
  }
 ]
}