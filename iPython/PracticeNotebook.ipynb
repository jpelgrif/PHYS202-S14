{
 "metadata": {
  "name": "",
  "signature": "sha256:e0addf0b1b26c17445f2b0654ec6b061ad5c37151647e2c90a62b21ec4d231e8"
 },
 "nbformat": 3,
 "nbformat_minor": 0,
 "worksheets": [
  {
   "cells": [
    {
     "cell_type": "code",
     "collapsed": false,
     "input": [],
     "language": "python",
     "metadata": {},
     "outputs": []
    }
   ],
   "metadata": {}
  }
 ]
}